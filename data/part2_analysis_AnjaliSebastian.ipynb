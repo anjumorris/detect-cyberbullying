{
 "cells": [
  {
   "cell_type": "markdown",
   "metadata": {},
   "source": [
    "### CPSC5305 Midterm Exam \n",
    "\n",
    "### Part 2: Data Preprocessing and Exploratory Data Analysis (70 pts)"
   ]
  },
  {
   "cell_type": "markdown",
   "metadata": {},
   "source": [
    "#### Your name and ID\n",
    "\n",
    "- Date: October 28th 2021\n",
    "\n",
    "- Name: Anjali Sebastian\n",
    "\n",
    "- SU ID: 4161227\n",
    "\n",
    "\n",
    "Write date, name and SU ID to indicate that you understand directions for the exam and have academic integrity stated as “All work I will be submitting is done on my own. No one is involved in my submitted work”. Note that the professor reserves the right to request additional testing if she finds exams were compromised. Blatant cases will be considered academic integrity violations and students will receive a zero on the exam. \n"
   ]
  },
  {
   "cell_type": "markdown",
   "metadata": {},
   "source": [
    "### Introducing iris dataset\n",
    "\n",
    "Data Information:\n",
    "\n",
    "This is perhaps the best known database to be found in the pattern recognition literature. [Fisher's paper](https://onlinelibrary.wiley.com/doi/epdf/10.1111/j.1469-1809.1936.tb02137.x) is a classic in the field and is referenced frequently to this day. The data set contains 3 classes of 50 instances each, where each class refers to a type of iris plant. One class is linearly separable from the other 2; the latter are NOT linearly separable from each other. \n",
    "\n",
    "Attribute Information:\n",
    "\n",
    "1. id - string\n",
    "3. sepal length in cm - float\n",
    "3. sepal width in cm - float\n",
    "4. petal length in cm - float\n",
    "5. petal width in cm - float\n",
    "6. name of iris: Setosa, Versicolour, Virginica - string\n",
    "7. class label: 1, 2, 3 - integer\n",
    "\n",
    "![Iris](./img/iris.png)\n",
    "\n",
    "Data files:\n",
    "\n",
    "- There are two raw data files:\n",
    "\n",
    "    - file path to data files: './data/iris1.csv' and './data/iris2.csv'\n",
    "    \n",
    "    - data values are not stored in any particular order. \n",
    "    \n",
    "    - iris1.csv contains three attributes, id, sepal length and sepal width\n",
    "\n",
    "    - iris2.csv contains four attributes, id, petal length, petal width, name of iris and class label\n",
    "    \n",
    "\n",
    "- Measurements: sepal length, sepal width, petal length, petal width\n",
    "\n",
    "- 50 samples of 3 different species of iris (150 samples total) \n",
    "\n",
    "Your analysis is based on four attributes of iris, sepal length, sepal width, petal length, petal width, and types of iris. "
   ]
  },
  {
   "cell_type": "markdown",
   "metadata": {},
   "source": [
    "### 1. Setup the environment and check data files (8 pts)\n",
    "\n",
    "(1) Import necessary modules\n",
    "\n",
    "(2) Read the data from given two raw data files and prepare data preprocessing. The current data files may cause errors due to:\n",
    "\n",
    "- Check how the data is stored in each file\n",
    "\n",
    "    - Data may not be stored in the expecting data types. \n",
    "    - Data may not be in the expecting ranges. \n",
    "    - Data values may be missing. \n",
    "\n",
    "- Check if there are any values in wrong data types, for example, you expect float values but the data is stored as string (characters). \n",
    "\n",
    "- Check if there are any incorrect data (out of data range). \n",
    "\n",
    "- Check if there are any missing data. \n",
    "\n",
    "\n",
    "Warning: \n",
    "\n",
    "- Do not open csv data files using Excel program. \n",
    "\n",
    "- Do not modify csv data files using Excel program. \n",
    "\n",
    "- Your script files will be tested using our datasets that are similar to the given data files. \n"
   ]
  },
  {
   "cell_type": "code",
   "execution_count": 1,
   "metadata": {},
   "outputs": [],
   "source": [
    "%matplotlib inline\n",
    "import pandas as pd\n",
    "import numpy as np\n",
    "import matplotlib.pyplot as plt\n",
    "import seaborn as sns"
   ]
  },
  {
   "cell_type": "markdown",
   "metadata": {},
   "source": [
    "#### 1.1 Reading in both Files"
   ]
  },
  {
   "cell_type": "code",
   "execution_count": 2,
   "metadata": {},
   "outputs": [
    {
     "data": {
      "text/html": [
       "<div>\n",
       "<style scoped>\n",
       "    .dataframe tbody tr th:only-of-type {\n",
       "        vertical-align: middle;\n",
       "    }\n",
       "\n",
       "    .dataframe tbody tr th {\n",
       "        vertical-align: top;\n",
       "    }\n",
       "\n",
       "    .dataframe thead th {\n",
       "        text-align: right;\n",
       "    }\n",
       "</style>\n",
       "<table border=\"1\" class=\"dataframe\">\n",
       "  <thead>\n",
       "    <tr style=\"text-align: right;\">\n",
       "      <th></th>\n",
       "      <th>id</th>\n",
       "      <th>SepalLen</th>\n",
       "      <th>SepalWid</th>\n",
       "    </tr>\n",
       "  </thead>\n",
       "  <tbody>\n",
       "    <tr>\n",
       "      <th>0</th>\n",
       "      <td>id-021</td>\n",
       "      <td>5.4</td>\n",
       "      <td>3.4</td>\n",
       "    </tr>\n",
       "    <tr>\n",
       "      <th>1</th>\n",
       "      <td>id-027</td>\n",
       "      <td>5.0</td>\n",
       "      <td>3.4</td>\n",
       "    </tr>\n",
       "    <tr>\n",
       "      <th>2</th>\n",
       "      <td>id-041</td>\n",
       "      <td>5.0</td>\n",
       "      <td>3.5</td>\n",
       "    </tr>\n",
       "    <tr>\n",
       "      <th>3</th>\n",
       "      <td>id-078</td>\n",
       "      <td>6.7</td>\n",
       "      <td>3.0</td>\n",
       "    </tr>\n",
       "    <tr>\n",
       "      <th>4</th>\n",
       "      <td>id-106</td>\n",
       "      <td>7.6</td>\n",
       "      <td>3.0</td>\n",
       "    </tr>\n",
       "  </tbody>\n",
       "</table>\n",
       "</div>"
      ],
      "text/plain": [
       "       id  SepalLen  SepalWid\n",
       "0  id-021       5.4       3.4\n",
       "1  id-027       5.0       3.4\n",
       "2  id-041       5.0       3.5\n",
       "3  id-078       6.7       3.0\n",
       "4  id-106       7.6       3.0"
      ]
     },
     "execution_count": 2,
     "metadata": {},
     "output_type": "execute_result"
    }
   ],
   "source": [
    "iris1 = pd.read_csv(\"./data/iris1.csv\")\n",
    "iris1.head()"
   ]
  },
  {
   "cell_type": "code",
   "execution_count": 3,
   "metadata": {},
   "outputs": [
    {
     "data": {
      "text/html": [
       "<div>\n",
       "<style scoped>\n",
       "    .dataframe tbody tr th:only-of-type {\n",
       "        vertical-align: middle;\n",
       "    }\n",
       "\n",
       "    .dataframe tbody tr th {\n",
       "        vertical-align: top;\n",
       "    }\n",
       "\n",
       "    .dataframe thead th {\n",
       "        text-align: right;\n",
       "    }\n",
       "</style>\n",
       "<table border=\"1\" class=\"dataframe\">\n",
       "  <thead>\n",
       "    <tr style=\"text-align: right;\">\n",
       "      <th></th>\n",
       "      <th>id</th>\n",
       "      <th>PetalLen</th>\n",
       "      <th>PetalWid</th>\n",
       "      <th>Name</th>\n",
       "      <th>class</th>\n",
       "    </tr>\n",
       "  </thead>\n",
       "  <tbody>\n",
       "    <tr>\n",
       "      <th>0</th>\n",
       "      <td>id-111</td>\n",
       "      <td>5.1</td>\n",
       "      <td>2.0</td>\n",
       "      <td>virginica</td>\n",
       "      <td>3</td>\n",
       "    </tr>\n",
       "    <tr>\n",
       "      <th>1</th>\n",
       "      <td>id-015</td>\n",
       "      <td>1.2</td>\n",
       "      <td>0.2</td>\n",
       "      <td>setosa</td>\n",
       "      <td>1</td>\n",
       "    </tr>\n",
       "    <tr>\n",
       "      <th>2</th>\n",
       "      <td>id-003</td>\n",
       "      <td>1.3</td>\n",
       "      <td>0.2</td>\n",
       "      <td>setosa</td>\n",
       "      <td>1</td>\n",
       "    </tr>\n",
       "    <tr>\n",
       "      <th>3</th>\n",
       "      <td>id-083</td>\n",
       "      <td>3.9</td>\n",
       "      <td>1.2</td>\n",
       "      <td>versicolor</td>\n",
       "      <td>two</td>\n",
       "    </tr>\n",
       "    <tr>\n",
       "      <th>4</th>\n",
       "      <td>id-143</td>\n",
       "      <td>5.1</td>\n",
       "      <td>1.9</td>\n",
       "      <td>virginica</td>\n",
       "      <td>3</td>\n",
       "    </tr>\n",
       "  </tbody>\n",
       "</table>\n",
       "</div>"
      ],
      "text/plain": [
       "       id  PetalLen  PetalWid        Name class\n",
       "0  id-111       5.1       2.0   virginica     3\n",
       "1  id-015       1.2       0.2      setosa     1\n",
       "2  id-003       1.3       0.2      setosa     1\n",
       "3  id-083       3.9       1.2  versicolor   two\n",
       "4  id-143       5.1       1.9   virginica     3"
      ]
     },
     "execution_count": 3,
     "metadata": {},
     "output_type": "execute_result"
    }
   ],
   "source": [
    "iris2 = pd.read_csv(\"./data/iris2.csv\")\n",
    "iris2.head()"
   ]
  },
  {
   "cell_type": "markdown",
   "metadata": {},
   "source": [
    "#### 1.2 Preliminary look at Iris 1 Dataset"
   ]
  },
  {
   "cell_type": "code",
   "execution_count": 4,
   "metadata": {},
   "outputs": [
    {
     "name": "stdout",
     "output_type": "stream",
     "text": [
      "<class 'pandas.core.frame.DataFrame'>\n",
      "RangeIndex: 150 entries, 0 to 149\n",
      "Data columns (total 3 columns):\n",
      " #   Column    Non-Null Count  Dtype  \n",
      "---  ------    --------------  -----  \n",
      " 0   id        150 non-null    object \n",
      " 1   SepalLen  150 non-null    float64\n",
      " 2   SepalWid  147 non-null    float64\n",
      "dtypes: float64(2), object(1)\n",
      "memory usage: 3.6+ KB\n"
     ]
    }
   ],
   "source": [
    "# Look at Datatypes\n",
    "iris1.info()"
   ]
  },
  {
   "cell_type": "code",
   "execution_count": 5,
   "metadata": {},
   "outputs": [
    {
     "data": {
      "text/plain": [
       "(150, 3)"
      ]
     },
     "execution_count": 5,
     "metadata": {},
     "output_type": "execute_result"
    }
   ],
   "source": [
    "# See Shape\n",
    "iris1.shape"
   ]
  },
  {
   "cell_type": "code",
   "execution_count": 6,
   "metadata": {},
   "outputs": [
    {
     "name": "stdout",
     "output_type": "stream",
     "text": [
      "True\n"
     ]
    }
   ],
   "source": [
    "# Check if unique id given for every row\n",
    "if (iris1.shape[0]==iris1['id'].nunique()):\n",
    "    print(True)\n",
    "else:\n",
    "    print(False)"
   ]
  },
  {
   "cell_type": "code",
   "execution_count": 7,
   "metadata": {},
   "outputs": [
    {
     "data": {
      "text/plain": [
       "id          0\n",
       "SepalLen    0\n",
       "SepalWid    3\n",
       "dtype: int64"
      ]
     },
     "execution_count": 7,
     "metadata": {},
     "output_type": "execute_result"
    }
   ],
   "source": [
    "# See if there are any NaN values\n",
    "iris1.isna().sum()"
   ]
  },
  {
   "cell_type": "markdown",
   "metadata": {},
   "source": [
    "#### 1.3 Preliminary look at Iris 2 Dataset"
   ]
  },
  {
   "cell_type": "code",
   "execution_count": 8,
   "metadata": {},
   "outputs": [
    {
     "name": "stdout",
     "output_type": "stream",
     "text": [
      "<class 'pandas.core.frame.DataFrame'>\n",
      "RangeIndex: 150 entries, 0 to 149\n",
      "Data columns (total 5 columns):\n",
      " #   Column    Non-Null Count  Dtype  \n",
      "---  ------    --------------  -----  \n",
      " 0   id        150 non-null    object \n",
      " 1   PetalLen  149 non-null    float64\n",
      " 2   PetalWid  150 non-null    float64\n",
      " 3   Name      150 non-null    object \n",
      " 4   class     150 non-null    object \n",
      "dtypes: float64(2), object(3)\n",
      "memory usage: 6.0+ KB\n"
     ]
    }
   ],
   "source": [
    "# Look at Datatypes\n",
    "iris2.info()"
   ]
  },
  {
   "cell_type": "code",
   "execution_count": 9,
   "metadata": {},
   "outputs": [
    {
     "data": {
      "text/plain": [
       "(150, 5)"
      ]
     },
     "execution_count": 9,
     "metadata": {},
     "output_type": "execute_result"
    }
   ],
   "source": [
    "# See Shape\n",
    "iris2.shape"
   ]
  },
  {
   "cell_type": "code",
   "execution_count": 10,
   "metadata": {},
   "outputs": [
    {
     "name": "stdout",
     "output_type": "stream",
     "text": [
      "True\n"
     ]
    }
   ],
   "source": [
    "# Check if unique id given for every row\n",
    "if (iris2.shape[0]==iris2['id'].nunique()):\n",
    "    print(True)\n",
    "else:\n",
    "    print(False)"
   ]
  },
  {
   "cell_type": "code",
   "execution_count": 11,
   "metadata": {},
   "outputs": [
    {
     "data": {
      "text/plain": [
       "id          0\n",
       "PetalLen    1\n",
       "PetalWid    0\n",
       "Name        0\n",
       "class       0\n",
       "dtype: int64"
      ]
     },
     "execution_count": 11,
     "metadata": {},
     "output_type": "execute_result"
    }
   ],
   "source": [
    "# See if any NaN values\n",
    "iris2.isna().sum()"
   ]
  },
  {
   "cell_type": "markdown",
   "metadata": {},
   "source": [
    "Notes: \n",
    "- Shape of the both iris datasets are appropriate for joinng on the id column. There is a unique id given in both datasets. \n",
    "- Datatype for PetalLen, PetalWidth, SepalLen, SepalWid are all floats which is good. However we will do type conversion on this still incase data includes none numeric values later. \n",
    "- Might be better to join on numeric id. So we will remove the \"id-\" part in the id column and change its type to integer \n",
    "- There are some null values in SepalWid, PetalLen that need to be addressed\n",
    "- We need to look more closely at the Name and class and construct the class from the name if needed"
   ]
  },
  {
   "cell_type": "markdown",
   "metadata": {},
   "source": [
    "#### 1.4 Look at class and name values in Iris 2"
   ]
  },
  {
   "cell_type": "code",
   "execution_count": 12,
   "metadata": {},
   "outputs": [
    {
     "data": {
      "text/plain": [
       "versicolor    50\n",
       "virginica     50\n",
       "setosa        50\n",
       "Name: Name, dtype: int64"
      ]
     },
     "execution_count": 12,
     "metadata": {},
     "output_type": "execute_result"
    }
   ],
   "source": [
    "iris2['Name'].value_counts()"
   ]
  },
  {
   "cell_type": "code",
   "execution_count": 13,
   "metadata": {},
   "outputs": [
    {
     "data": {
      "text/plain": [
       "1      50\n",
       "3      50\n",
       "2      49\n",
       "two     1\n",
       "Name: class, dtype: int64"
      ]
     },
     "execution_count": 13,
     "metadata": {},
     "output_type": "execute_result"
    }
   ],
   "source": [
    "iris2['class'].value_counts()"
   ]
  },
  {
   "cell_type": "markdown",
   "metadata": {},
   "source": [
    "Notes: \n",
    "- We see that in class the 'two' is causing errors\n",
    "- There are 3 classes of iris the class class column is encoding the name column as an integer\n",
    "- setosa = 1 , versicolor = 2 , virginica = 3"
   ]
  },
  {
   "cell_type": "markdown",
   "metadata": {},
   "source": [
    "### 2. Data Preprocessing (16 pts)\n",
    "\n",
    "Complete each of the following data preprocessing tasks. All of the data preprocessing should be done in Python scripts. You are not allowed to change the two raw data files. \n",
    "\n",
    "(1) Conduct data clearning that includes: \n",
    "\n",
    "- Incorrect data handling: \n",
    "\n",
    "    - wrong data types\n",
    "    - values are out of range\n",
    "    \n",
    "- Missing data handling    \n",
    "\n",
    "(2) Data integration: the data from two data files into a DataFrame. Data should be merged based on id. Use id attribute as index for rows. \n",
    "\n",
    "(3) Set index to id and drop unused attributeds (Name)\n",
    "\n",
    "<img src=\"./img/df.png\" alt=\"DataFrame\" style=\"width: 300px;\"/>\n",
    "\n",
    "(4) Data normalization (using one of two scalers)\n",
    "\n",
    "- Have two datasets ready: (1) Data without normalization (2) Data normalized by MinMaxScaler or StandardScaler. \n",
    "\n",
    "Your next step of EDA should be conducted on these two datasets."
   ]
  },
  {
   "cell_type": "code",
   "execution_count": 14,
   "metadata": {},
   "outputs": [],
   "source": [
    "# Delete later a quick re-read prior to processing\n",
    "iris1 = pd.read_csv(\"./data/iris1.csv\")\n",
    "iris2 = pd.read_csv(\"./data/iris2.csv\")"
   ]
  },
  {
   "cell_type": "markdown",
   "metadata": {},
   "source": [
    "#### 2.1  Iris1 - First Round of Preprocessing\n",
    "- Renaming columns\n",
    "- Converting id to integer value\n",
    "- Coversion **in case** Sepal length or width is not numeric\n",
    "- Recheck datatypes and no. of NaN values "
   ]
  },
  {
   "cell_type": "code",
   "execution_count": 15,
   "metadata": {},
   "outputs": [
    {
     "name": "stdout",
     "output_type": "stream",
     "text": [
      "<class 'pandas.core.frame.DataFrame'>\n",
      "RangeIndex: 150 entries, 0 to 149\n",
      "Data columns (total 3 columns):\n",
      " #   Column     Non-Null Count  Dtype  \n",
      "---  ------     --------------  -----  \n",
      " 0   id         150 non-null    int64  \n",
      " 1   sepal_len  150 non-null    float64\n",
      " 2   sepal_wid  147 non-null    float64\n",
      "dtypes: float64(2), int64(1)\n",
      "memory usage: 3.6 KB\n"
     ]
    }
   ],
   "source": [
    "# rename the iris1 columns\n",
    "iris1 = iris1.rename({'SepalLen': 'sepal_len','SepalWid': 'sepal_wid'}, axis=1)\n",
    "\n",
    "# converting to string type\n",
    "iris1['id'] = iris1[\"id\"].astype(\"string\")\n",
    "\n",
    "# cleaning the id column , by stripping whitespaces \n",
    "iris1['id'] = iris1[\"id\"].str.strip()\n",
    "\n",
    "# remove the \"id-\" part in the id \n",
    "iris1['id'] = iris1[\"id\"].str.replace(\"id-\",\"\")\n",
    "iris1['id'] = iris1[\"id\"].str.replace(\"Id-\",\"\")\n",
    "iris1['id'] = iris1[\"id\"].str.replace(\"iD-\",\"\")\n",
    "iris1['id'] = iris1[\"id\"].str.replace(\"ID-\",\"\")\n",
    "\n",
    "# convert id to numeric \n",
    "# raise error since we dont want id to be converted to NaN value\n",
    "iris1['id']= pd.to_numeric(iris1['id'],errors ='raise')\n",
    "\n",
    "# convert sepal_len,sepal_wid to numeric in case data changes\n",
    "iris1['sepal_len']= pd.to_numeric(iris1['sepal_len'],errors ='coerce')\n",
    "iris1['sepal_wid']= pd.to_numeric(iris1['sepal_wid'],errors ='coerce')\n",
    "\n",
    "iris1.info()"
   ]
  },
  {
   "cell_type": "code",
   "execution_count": 16,
   "metadata": {},
   "outputs": [
    {
     "data": {
      "text/plain": [
       "id           0\n",
       "sepal_len    0\n",
       "sepal_wid    3\n",
       "dtype: int64"
      ]
     },
     "execution_count": 16,
     "metadata": {},
     "output_type": "execute_result"
    }
   ],
   "source": [
    "iris1.isna().sum()"
   ]
  },
  {
   "cell_type": "markdown",
   "metadata": {},
   "source": [
    "#### 2.2  Iris2 - First Round of Preprocessing\n",
    "- Renaming columns\n",
    "- Converting id to integer value\n",
    "- Coversion **in case** Petal Length or Width is not numeric \n",
    "- Recheck datatypes and no. of NaN values "
   ]
  },
  {
   "cell_type": "code",
   "execution_count": 17,
   "metadata": {},
   "outputs": [
    {
     "name": "stdout",
     "output_type": "stream",
     "text": [
      "<class 'pandas.core.frame.DataFrame'>\n",
      "RangeIndex: 150 entries, 0 to 149\n",
      "Data columns (total 5 columns):\n",
      " #   Column     Non-Null Count  Dtype  \n",
      "---  ------     --------------  -----  \n",
      " 0   id         150 non-null    int64  \n",
      " 1   petal_len  149 non-null    float64\n",
      " 2   petal_wid  150 non-null    float64\n",
      " 3   name       150 non-null    object \n",
      " 4   class      149 non-null    Int64  \n",
      "dtypes: Int64(1), float64(2), int64(1), object(1)\n",
      "memory usage: 6.1+ KB\n"
     ]
    }
   ],
   "source": [
    "# rename the iris2 columns\n",
    "iris2 = iris2.rename({'PetalLen': 'petal_len','PetalWid': 'petal_wid','Name':'name'}, axis=1)\n",
    "\n",
    "# converting to string type\n",
    "iris2['id'] = iris2[\"id\"].astype(\"string\")\n",
    "\n",
    "# cleaning the id column , by stripping whitespaces \n",
    "iris2['id'] = iris2[\"id\"].str.strip()\n",
    "\n",
    "# remove the \"id-\" part in the id \n",
    "iris2['id'] = iris2[\"id\"].str.replace(\"id-\",\"\")\n",
    "iris2['id'] = iris2[\"id\"].str.replace(\"Id-\",\"\")\n",
    "iris2['id'] = iris2[\"id\"].str.replace(\"iD-\",\"\")\n",
    "iris2['id'] = iris2[\"id\"].str.replace(\"ID-\",\"\")\n",
    "\n",
    "# convert id to numeric \n",
    "# raise error since we dont want id to be converted to NaN value\n",
    "iris2['id']= pd.to_numeric(iris2['id'],errors ='raise')\n",
    "\n",
    "# convert sepal_len,sepal_wid to numeric in case data changes\n",
    "iris2['petal_len']= pd.to_numeric(iris2['petal_len'],errors ='coerce')\n",
    "iris2['petal_wid']= pd.to_numeric(iris2['petal_wid'],errors ='coerce')\n",
    "\n",
    "# convert the class to integer values. If coerce results in some NaN we will fill using the iris name column\n",
    "# coerce and then downcast to Integer\n",
    "iris2['class']= pd.to_numeric(iris2['class'], errors =\"coerce\")\n",
    "s = pd.Series(iris2['class'], dtype=\"Int64\")\n",
    "iris2['class']= pd.to_numeric(s, downcast=\"integer\")\n",
    "\n",
    "iris2.info()"
   ]
  },
  {
   "cell_type": "code",
   "execution_count": 18,
   "metadata": {},
   "outputs": [
    {
     "data": {
      "text/plain": [
       "id           0\n",
       "petal_len    1\n",
       "petal_wid    0\n",
       "name         0\n",
       "class        1\n",
       "dtype: int64"
      ]
     },
     "execution_count": 18,
     "metadata": {},
     "output_type": "execute_result"
    }
   ],
   "source": [
    "iris2.isna().sum()"
   ]
  },
  {
   "cell_type": "markdown",
   "metadata": {},
   "source": [
    "Note: we see that 'two' has become a NaN values this is to be expected and we will be filling this later."
   ]
  },
  {
   "cell_type": "markdown",
   "metadata": {},
   "source": [
    "#### 2.3 Joinng Iris1 and Iris2 on id "
   ]
  },
  {
   "cell_type": "code",
   "execution_count": 19,
   "metadata": {},
   "outputs": [
    {
     "data": {
      "text/html": [
       "<div>\n",
       "<style scoped>\n",
       "    .dataframe tbody tr th:only-of-type {\n",
       "        vertical-align: middle;\n",
       "    }\n",
       "\n",
       "    .dataframe tbody tr th {\n",
       "        vertical-align: top;\n",
       "    }\n",
       "\n",
       "    .dataframe thead th {\n",
       "        text-align: right;\n",
       "    }\n",
       "</style>\n",
       "<table border=\"1\" class=\"dataframe\">\n",
       "  <thead>\n",
       "    <tr style=\"text-align: right;\">\n",
       "      <th></th>\n",
       "      <th>id</th>\n",
       "      <th>sepal_len</th>\n",
       "      <th>sepal_wid</th>\n",
       "      <th>petal_len</th>\n",
       "      <th>petal_wid</th>\n",
       "      <th>name</th>\n",
       "      <th>class</th>\n",
       "    </tr>\n",
       "  </thead>\n",
       "  <tbody>\n",
       "    <tr>\n",
       "      <th>0</th>\n",
       "      <td>21</td>\n",
       "      <td>5.4</td>\n",
       "      <td>3.4</td>\n",
       "      <td>1.7</td>\n",
       "      <td>0.2</td>\n",
       "      <td>setosa</td>\n",
       "      <td>1</td>\n",
       "    </tr>\n",
       "    <tr>\n",
       "      <th>1</th>\n",
       "      <td>27</td>\n",
       "      <td>5.0</td>\n",
       "      <td>3.4</td>\n",
       "      <td>1.6</td>\n",
       "      <td>0.4</td>\n",
       "      <td>setosa</td>\n",
       "      <td>1</td>\n",
       "    </tr>\n",
       "    <tr>\n",
       "      <th>2</th>\n",
       "      <td>41</td>\n",
       "      <td>5.0</td>\n",
       "      <td>3.5</td>\n",
       "      <td>1.3</td>\n",
       "      <td>0.3</td>\n",
       "      <td>setosa</td>\n",
       "      <td>1</td>\n",
       "    </tr>\n",
       "    <tr>\n",
       "      <th>3</th>\n",
       "      <td>78</td>\n",
       "      <td>6.7</td>\n",
       "      <td>3.0</td>\n",
       "      <td>5.0</td>\n",
       "      <td>1.7</td>\n",
       "      <td>versicolor</td>\n",
       "      <td>2</td>\n",
       "    </tr>\n",
       "    <tr>\n",
       "      <th>4</th>\n",
       "      <td>106</td>\n",
       "      <td>7.6</td>\n",
       "      <td>3.0</td>\n",
       "      <td>6.6</td>\n",
       "      <td>2.1</td>\n",
       "      <td>virginica</td>\n",
       "      <td>3</td>\n",
       "    </tr>\n",
       "  </tbody>\n",
       "</table>\n",
       "</div>"
      ],
      "text/plain": [
       "    id  sepal_len  sepal_wid  petal_len  petal_wid        name  class\n",
       "0   21        5.4        3.4        1.7        0.2      setosa      1\n",
       "1   27        5.0        3.4        1.6        0.4      setosa      1\n",
       "2   41        5.0        3.5        1.3        0.3      setosa      1\n",
       "3   78        6.7        3.0        5.0        1.7  versicolor      2\n",
       "4  106        7.6        3.0        6.6        2.1   virginica      3"
      ]
     },
     "execution_count": 19,
     "metadata": {},
     "output_type": "execute_result"
    }
   ],
   "source": [
    "# perform inner join\n",
    "iris = iris1.merge(iris2, on='id', how ='inner')\n",
    "iris.head()"
   ]
  },
  {
   "cell_type": "code",
   "execution_count": 20,
   "metadata": {},
   "outputs": [
    {
     "name": "stdout",
     "output_type": "stream",
     "text": [
      "<class 'pandas.core.frame.DataFrame'>\n",
      "Int64Index: 150 entries, 0 to 149\n",
      "Data columns (total 7 columns):\n",
      " #   Column     Non-Null Count  Dtype  \n",
      "---  ------     --------------  -----  \n",
      " 0   id         150 non-null    int64  \n",
      " 1   sepal_len  150 non-null    float64\n",
      " 2   sepal_wid  147 non-null    float64\n",
      " 3   petal_len  149 non-null    float64\n",
      " 4   petal_wid  150 non-null    float64\n",
      " 5   name       150 non-null    object \n",
      " 6   class      149 non-null    Int64  \n",
      "dtypes: Int64(1), float64(4), int64(1), object(1)\n",
      "memory usage: 9.5+ KB\n"
     ]
    }
   ],
   "source": [
    "# check new dataset\n",
    "iris.info()"
   ]
  },
  {
   "cell_type": "code",
   "execution_count": 21,
   "metadata": {},
   "outputs": [
    {
     "name": "stdout",
     "output_type": "stream",
     "text": [
      "we are able to do a perfect inner join on iris1 and iris2\n"
     ]
    }
   ],
   "source": [
    "# check if we got back same number of records in new dataset as compared to unjoined iris1\n",
    "if(iris.shape[0] == iris1.shape[0]):\n",
    "    print(\"we are able to do a perfect inner join on iris1 and iris2\")\n",
    "else:\n",
    "    print(\"all the id values in iris1 did not have a pair in iris 2 ??\")"
   ]
  },
  {
   "cell_type": "markdown",
   "metadata": {},
   "source": [
    "#### 2.4 Mapping Classes and Names\n",
    "Here we use the name column to fill any missing class values. Since the two are redudant."
   ]
  },
  {
   "cell_type": "code",
   "execution_count": 22,
   "metadata": {},
   "outputs": [],
   "source": [
    "# Make a mapping dictionary\n",
    "mapping = {'setosa': 1 , 'versicolor': 2 , 'virginica': 3}"
   ]
  },
  {
   "cell_type": "code",
   "execution_count": 23,
   "metadata": {},
   "outputs": [
    {
     "data": {
      "text/html": [
       "<div>\n",
       "<style scoped>\n",
       "    .dataframe tbody tr th:only-of-type {\n",
       "        vertical-align: middle;\n",
       "    }\n",
       "\n",
       "    .dataframe tbody tr th {\n",
       "        vertical-align: top;\n",
       "    }\n",
       "\n",
       "    .dataframe thead th {\n",
       "        text-align: right;\n",
       "    }\n",
       "</style>\n",
       "<table border=\"1\" class=\"dataframe\">\n",
       "  <thead>\n",
       "    <tr style=\"text-align: right;\">\n",
       "      <th></th>\n",
       "      <th>id</th>\n",
       "      <th>sepal_len</th>\n",
       "      <th>sepal_wid</th>\n",
       "      <th>petal_len</th>\n",
       "      <th>petal_wid</th>\n",
       "      <th>class</th>\n",
       "    </tr>\n",
       "  </thead>\n",
       "  <tbody>\n",
       "    <tr>\n",
       "      <th>0</th>\n",
       "      <td>21</td>\n",
       "      <td>5.4</td>\n",
       "      <td>3.4</td>\n",
       "      <td>1.7</td>\n",
       "      <td>0.2</td>\n",
       "      <td>1</td>\n",
       "    </tr>\n",
       "    <tr>\n",
       "      <th>1</th>\n",
       "      <td>27</td>\n",
       "      <td>5.0</td>\n",
       "      <td>3.4</td>\n",
       "      <td>1.6</td>\n",
       "      <td>0.4</td>\n",
       "      <td>1</td>\n",
       "    </tr>\n",
       "    <tr>\n",
       "      <th>2</th>\n",
       "      <td>41</td>\n",
       "      <td>5.0</td>\n",
       "      <td>3.5</td>\n",
       "      <td>1.3</td>\n",
       "      <td>0.3</td>\n",
       "      <td>1</td>\n",
       "    </tr>\n",
       "    <tr>\n",
       "      <th>3</th>\n",
       "      <td>78</td>\n",
       "      <td>6.7</td>\n",
       "      <td>3.0</td>\n",
       "      <td>5.0</td>\n",
       "      <td>1.7</td>\n",
       "      <td>2</td>\n",
       "    </tr>\n",
       "    <tr>\n",
       "      <th>4</th>\n",
       "      <td>106</td>\n",
       "      <td>7.6</td>\n",
       "      <td>3.0</td>\n",
       "      <td>6.6</td>\n",
       "      <td>2.1</td>\n",
       "      <td>3</td>\n",
       "    </tr>\n",
       "  </tbody>\n",
       "</table>\n",
       "</div>"
      ],
      "text/plain": [
       "    id  sepal_len  sepal_wid  petal_len  petal_wid class\n",
       "0   21        5.4        3.4        1.7        0.2     1\n",
       "1   27        5.0        3.4        1.6        0.4     1\n",
       "2   41        5.0        3.5        1.3        0.3     1\n",
       "3   78        6.7        3.0        5.0        1.7     2\n",
       "4  106        7.6        3.0        6.6        2.1     3"
      ]
     },
     "execution_count": 23,
     "metadata": {},
     "output_type": "execute_result"
    }
   ],
   "source": [
    "# use mapping on the name colum so that it is now an integer\n",
    "iris[\"name\"] = iris['name'].map(mapping)\n",
    "\n",
    "# Find NaN values in the class column and replace them with our mapped values from the name column\n",
    "iris.loc[iris[\"class\"].isna(),\"class\"] = iris[\"name\"]\n",
    "\n",
    "# Then drop the name column\n",
    "iris = iris.drop(['name'], axis=1)\n",
    "\n",
    "# Set class column to string\n",
    "iris['class'] = iris['class'].astype('string')\n",
    "\n",
    "# look at new dataframe\n",
    "iris.head()"
   ]
  },
  {
   "cell_type": "code",
   "execution_count": 24,
   "metadata": {},
   "outputs": [
    {
     "data": {
      "text/plain": [
       "id           0\n",
       "sepal_len    0\n",
       "sepal_wid    3\n",
       "petal_len    1\n",
       "petal_wid    0\n",
       "class        0\n",
       "dtype: int64"
      ]
     },
     "execution_count": 24,
     "metadata": {},
     "output_type": "execute_result"
    }
   ],
   "source": [
    "iris.isna().sum()"
   ]
  },
  {
   "cell_type": "markdown",
   "metadata": {},
   "source": [
    "#### 2.5 Setting the id column as index "
   ]
  },
  {
   "cell_type": "code",
   "execution_count": 25,
   "metadata": {},
   "outputs": [
    {
     "data": {
      "text/html": [
       "<div>\n",
       "<style scoped>\n",
       "    .dataframe tbody tr th:only-of-type {\n",
       "        vertical-align: middle;\n",
       "    }\n",
       "\n",
       "    .dataframe tbody tr th {\n",
       "        vertical-align: top;\n",
       "    }\n",
       "\n",
       "    .dataframe thead th {\n",
       "        text-align: right;\n",
       "    }\n",
       "</style>\n",
       "<table border=\"1\" class=\"dataframe\">\n",
       "  <thead>\n",
       "    <tr style=\"text-align: right;\">\n",
       "      <th></th>\n",
       "      <th>id</th>\n",
       "      <th>sepal_len</th>\n",
       "      <th>sepal_wid</th>\n",
       "      <th>petal_len</th>\n",
       "      <th>petal_wid</th>\n",
       "      <th>class</th>\n",
       "    </tr>\n",
       "  </thead>\n",
       "  <tbody>\n",
       "    <tr>\n",
       "      <th>103</th>\n",
       "      <td>1</td>\n",
       "      <td>9.5</td>\n",
       "      <td>3.5</td>\n",
       "      <td>1.4</td>\n",
       "      <td>0.2</td>\n",
       "      <td>1</td>\n",
       "    </tr>\n",
       "    <tr>\n",
       "      <th>119</th>\n",
       "      <td>2</td>\n",
       "      <td>4.9</td>\n",
       "      <td>3.0</td>\n",
       "      <td>1.4</td>\n",
       "      <td>0.2</td>\n",
       "      <td>1</td>\n",
       "    </tr>\n",
       "    <tr>\n",
       "      <th>111</th>\n",
       "      <td>3</td>\n",
       "      <td>4.7</td>\n",
       "      <td>3.2</td>\n",
       "      <td>1.3</td>\n",
       "      <td>0.2</td>\n",
       "      <td>1</td>\n",
       "    </tr>\n",
       "    <tr>\n",
       "      <th>42</th>\n",
       "      <td>4</td>\n",
       "      <td>4.6</td>\n",
       "      <td>3.1</td>\n",
       "      <td>1.5</td>\n",
       "      <td>0.2</td>\n",
       "      <td>1</td>\n",
       "    </tr>\n",
       "    <tr>\n",
       "      <th>145</th>\n",
       "      <td>5</td>\n",
       "      <td>5.0</td>\n",
       "      <td>3.6</td>\n",
       "      <td>1.4</td>\n",
       "      <td>0.2</td>\n",
       "      <td>1</td>\n",
       "    </tr>\n",
       "  </tbody>\n",
       "</table>\n",
       "</div>"
      ],
      "text/plain": [
       "     id  sepal_len  sepal_wid  petal_len  petal_wid class\n",
       "103   1        9.5        3.5        1.4        0.2     1\n",
       "119   2        4.9        3.0        1.4        0.2     1\n",
       "111   3        4.7        3.2        1.3        0.2     1\n",
       "42    4        4.6        3.1        1.5        0.2     1\n",
       "145   5        5.0        3.6        1.4        0.2     1"
      ]
     },
     "execution_count": 25,
     "metadata": {},
     "output_type": "execute_result"
    }
   ],
   "source": [
    "# sort by id\n",
    "iris.sort_values(by='id',inplace=True)\n",
    "iris.head()"
   ]
  },
  {
   "cell_type": "code",
   "execution_count": 26,
   "metadata": {},
   "outputs": [
    {
     "data": {
      "text/html": [
       "<div>\n",
       "<style scoped>\n",
       "    .dataframe tbody tr th:only-of-type {\n",
       "        vertical-align: middle;\n",
       "    }\n",
       "\n",
       "    .dataframe tbody tr th {\n",
       "        vertical-align: top;\n",
       "    }\n",
       "\n",
       "    .dataframe thead th {\n",
       "        text-align: right;\n",
       "    }\n",
       "</style>\n",
       "<table border=\"1\" class=\"dataframe\">\n",
       "  <thead>\n",
       "    <tr style=\"text-align: right;\">\n",
       "      <th></th>\n",
       "      <th>sepal_len</th>\n",
       "      <th>sepal_wid</th>\n",
       "      <th>petal_len</th>\n",
       "      <th>petal_wid</th>\n",
       "      <th>class</th>\n",
       "    </tr>\n",
       "    <tr>\n",
       "      <th>id</th>\n",
       "      <th></th>\n",
       "      <th></th>\n",
       "      <th></th>\n",
       "      <th></th>\n",
       "      <th></th>\n",
       "    </tr>\n",
       "  </thead>\n",
       "  <tbody>\n",
       "    <tr>\n",
       "      <th>1</th>\n",
       "      <td>9.5</td>\n",
       "      <td>3.5</td>\n",
       "      <td>1.4</td>\n",
       "      <td>0.2</td>\n",
       "      <td>1</td>\n",
       "    </tr>\n",
       "    <tr>\n",
       "      <th>2</th>\n",
       "      <td>4.9</td>\n",
       "      <td>3.0</td>\n",
       "      <td>1.4</td>\n",
       "      <td>0.2</td>\n",
       "      <td>1</td>\n",
       "    </tr>\n",
       "    <tr>\n",
       "      <th>3</th>\n",
       "      <td>4.7</td>\n",
       "      <td>3.2</td>\n",
       "      <td>1.3</td>\n",
       "      <td>0.2</td>\n",
       "      <td>1</td>\n",
       "    </tr>\n",
       "    <tr>\n",
       "      <th>4</th>\n",
       "      <td>4.6</td>\n",
       "      <td>3.1</td>\n",
       "      <td>1.5</td>\n",
       "      <td>0.2</td>\n",
       "      <td>1</td>\n",
       "    </tr>\n",
       "    <tr>\n",
       "      <th>5</th>\n",
       "      <td>5.0</td>\n",
       "      <td>3.6</td>\n",
       "      <td>1.4</td>\n",
       "      <td>0.2</td>\n",
       "      <td>1</td>\n",
       "    </tr>\n",
       "  </tbody>\n",
       "</table>\n",
       "</div>"
      ],
      "text/plain": [
       "    sepal_len  sepal_wid  petal_len  petal_wid class\n",
       "id                                                  \n",
       "1         9.5        3.5        1.4        0.2     1\n",
       "2         4.9        3.0        1.4        0.2     1\n",
       "3         4.7        3.2        1.3        0.2     1\n",
       "4         4.6        3.1        1.5        0.2     1\n",
       "5         5.0        3.6        1.4        0.2     1"
      ]
     },
     "execution_count": 26,
     "metadata": {},
     "output_type": "execute_result"
    }
   ],
   "source": [
    "# change index to 'id'\n",
    "iris = iris.set_index('id')\n",
    "iris.head()"
   ]
  },
  {
   "cell_type": "code",
   "execution_count": 27,
   "metadata": {},
   "outputs": [
    {
     "data": {
      "text/html": [
       "<div>\n",
       "<style scoped>\n",
       "    .dataframe tbody tr th:only-of-type {\n",
       "        vertical-align: middle;\n",
       "    }\n",
       "\n",
       "    .dataframe tbody tr th {\n",
       "        vertical-align: top;\n",
       "    }\n",
       "\n",
       "    .dataframe thead th {\n",
       "        text-align: right;\n",
       "    }\n",
       "</style>\n",
       "<table border=\"1\" class=\"dataframe\">\n",
       "  <thead>\n",
       "    <tr style=\"text-align: right;\">\n",
       "      <th></th>\n",
       "      <th>sepal_len</th>\n",
       "      <th>sepal_wid</th>\n",
       "      <th>petal_len</th>\n",
       "      <th>petal_wid</th>\n",
       "      <th>class</th>\n",
       "    </tr>\n",
       "    <tr>\n",
       "      <th>id</th>\n",
       "      <th></th>\n",
       "      <th></th>\n",
       "      <th></th>\n",
       "      <th></th>\n",
       "      <th></th>\n",
       "    </tr>\n",
       "  </thead>\n",
       "  <tbody>\n",
       "    <tr>\n",
       "      <th>146</th>\n",
       "      <td>6.7</td>\n",
       "      <td>3.0</td>\n",
       "      <td>5.2</td>\n",
       "      <td>2.3</td>\n",
       "      <td>3</td>\n",
       "    </tr>\n",
       "    <tr>\n",
       "      <th>147</th>\n",
       "      <td>6.3</td>\n",
       "      <td>2.5</td>\n",
       "      <td>5.0</td>\n",
       "      <td>1.9</td>\n",
       "      <td>3</td>\n",
       "    </tr>\n",
       "    <tr>\n",
       "      <th>148</th>\n",
       "      <td>6.5</td>\n",
       "      <td>3.0</td>\n",
       "      <td>5.2</td>\n",
       "      <td>2.0</td>\n",
       "      <td>3</td>\n",
       "    </tr>\n",
       "    <tr>\n",
       "      <th>149</th>\n",
       "      <td>6.2</td>\n",
       "      <td>3.4</td>\n",
       "      <td>5.4</td>\n",
       "      <td>2.3</td>\n",
       "      <td>3</td>\n",
       "    </tr>\n",
       "    <tr>\n",
       "      <th>150</th>\n",
       "      <td>5.9</td>\n",
       "      <td>3.0</td>\n",
       "      <td>5.1</td>\n",
       "      <td>1.8</td>\n",
       "      <td>3</td>\n",
       "    </tr>\n",
       "  </tbody>\n",
       "</table>\n",
       "</div>"
      ],
      "text/plain": [
       "     sepal_len  sepal_wid  petal_len  petal_wid class\n",
       "id                                                   \n",
       "146        6.7        3.0        5.2        2.3     3\n",
       "147        6.3        2.5        5.0        1.9     3\n",
       "148        6.5        3.0        5.2        2.0     3\n",
       "149        6.2        3.4        5.4        2.3     3\n",
       "150        5.9        3.0        5.1        1.8     3"
      ]
     },
     "execution_count": 27,
     "metadata": {},
     "output_type": "execute_result"
    }
   ],
   "source": [
    "iris.tail()"
   ]
  },
  {
   "cell_type": "markdown",
   "metadata": {},
   "source": [
    "#### 2.6 Preliminary EDA and Outlier Removal"
   ]
  },
  {
   "cell_type": "code",
   "execution_count": 28,
   "metadata": {},
   "outputs": [
    {
     "data": {
      "text/html": [
       "<div>\n",
       "<style scoped>\n",
       "    .dataframe tbody tr th:only-of-type {\n",
       "        vertical-align: middle;\n",
       "    }\n",
       "\n",
       "    .dataframe tbody tr th {\n",
       "        vertical-align: top;\n",
       "    }\n",
       "\n",
       "    .dataframe thead th {\n",
       "        text-align: right;\n",
       "    }\n",
       "</style>\n",
       "<table border=\"1\" class=\"dataframe\">\n",
       "  <thead>\n",
       "    <tr style=\"text-align: right;\">\n",
       "      <th></th>\n",
       "      <th>sepal_len</th>\n",
       "      <th>sepal_wid</th>\n",
       "      <th>petal_len</th>\n",
       "      <th>petal_wid</th>\n",
       "    </tr>\n",
       "  </thead>\n",
       "  <tbody>\n",
       "    <tr>\n",
       "      <th>count</th>\n",
       "      <td>150.000000</td>\n",
       "      <td>147.000000</td>\n",
       "      <td>149.000000</td>\n",
       "      <td>150.000000</td>\n",
       "    </tr>\n",
       "    <tr>\n",
       "      <th>mean</th>\n",
       "      <td>5.872000</td>\n",
       "      <td>3.058503</td>\n",
       "      <td>3.775168</td>\n",
       "      <td>1.170667</td>\n",
       "    </tr>\n",
       "    <tr>\n",
       "      <th>std</th>\n",
       "      <td>0.994017</td>\n",
       "      <td>0.423754</td>\n",
       "      <td>1.758720</td>\n",
       "      <td>0.805730</td>\n",
       "    </tr>\n",
       "    <tr>\n",
       "      <th>min</th>\n",
       "      <td>2.800000</td>\n",
       "      <td>2.200000</td>\n",
       "      <td>1.000000</td>\n",
       "      <td>-2.100000</td>\n",
       "    </tr>\n",
       "    <tr>\n",
       "      <th>25%</th>\n",
       "      <td>5.100000</td>\n",
       "      <td>2.800000</td>\n",
       "      <td>1.600000</td>\n",
       "      <td>0.300000</td>\n",
       "    </tr>\n",
       "    <tr>\n",
       "      <th>50%</th>\n",
       "      <td>5.800000</td>\n",
       "      <td>3.000000</td>\n",
       "      <td>4.400000</td>\n",
       "      <td>1.300000</td>\n",
       "    </tr>\n",
       "    <tr>\n",
       "      <th>75%</th>\n",
       "      <td>6.400000</td>\n",
       "      <td>3.300000</td>\n",
       "      <td>5.100000</td>\n",
       "      <td>1.800000</td>\n",
       "    </tr>\n",
       "    <tr>\n",
       "      <th>max</th>\n",
       "      <td>9.800000</td>\n",
       "      <td>4.400000</td>\n",
       "      <td>6.900000</td>\n",
       "      <td>2.500000</td>\n",
       "    </tr>\n",
       "  </tbody>\n",
       "</table>\n",
       "</div>"
      ],
      "text/plain": [
       "        sepal_len   sepal_wid   petal_len   petal_wid\n",
       "count  150.000000  147.000000  149.000000  150.000000\n",
       "mean     5.872000    3.058503    3.775168    1.170667\n",
       "std      0.994017    0.423754    1.758720    0.805730\n",
       "min      2.800000    2.200000    1.000000   -2.100000\n",
       "25%      5.100000    2.800000    1.600000    0.300000\n",
       "50%      5.800000    3.000000    4.400000    1.300000\n",
       "75%      6.400000    3.300000    5.100000    1.800000\n",
       "max      9.800000    4.400000    6.900000    2.500000"
      ]
     },
     "execution_count": 28,
     "metadata": {},
     "output_type": "execute_result"
    }
   ],
   "source": [
    "# descriptive statistics results\n",
    "iris.describe()"
   ]
  },
  {
   "cell_type": "code",
   "execution_count": 29,
   "metadata": {},
   "outputs": [
    {
     "data": {
      "text/plain": [
       "<AxesSubplot:>"
      ]
     },
     "execution_count": 29,
     "metadata": {},
     "output_type": "execute_result"
    },
    {
     "data": {
      "image/png": "[encoded data removed]",
      "text/plain": [
       "<Figure size 432x288 with 1 Axes>"
      ]
     },
     "metadata": {
      "needs_background": "light"
     },
     "output_type": "display_data"
    }
   ],
   "source": [
    "# descriptive statistics results\n",
    "iris.boxplot()"
   ]
  },
  {
   "cell_type": "markdown",
   "metadata": {},
   "source": [
    "Note: \n",
    "- We see that the min petal width is -2 this is clearly not possible so some outliers need to be removed.\n",
    "- We also see that there are outliers for sepal_len, sepal_wid. But since the values here are not impossible values we chose to keep them for now.\n",
    "- According to wikipedia Iris giganticaerulea is the largest iris and the flowers are generally 5 to 6 inches (13 to 15 cm)."
   ]
  },
  {
   "cell_type": "code",
   "execution_count": 30,
   "metadata": {},
   "outputs": [],
   "source": [
    "# since negative length are not possible we can remove this outlier upfront\n",
    "# remove any 0 or -ve values\n",
    "iris.loc[iris['petal_wid']<=0,'petal_wid'] = np.nan\n",
    "iris.loc[iris['petal_len']<=0,'petal_len'] = np.nan\n",
    "iris.loc[iris['sepal_wid']<=0,'sepal_wid'] = np.nan\n",
    "iris.loc[iris['sepal_len']<=0,'sepal_len'] = np.nan\n",
    "\n",
    "# remove any values greater than 15cm\n",
    "iris.loc[iris['petal_wid']>15,'petal_wid'] = np.nan\n",
    "iris.loc[iris['petal_len']>15,'petal_len'] = np.nan\n",
    "iris.loc[iris['sepal_wid']>15,'sepal_wid'] = np.nan\n",
    "iris.loc[iris['sepal_len']>15,'sepal_len'] = np.nan"
   ]
  },
  {
   "cell_type": "code",
   "execution_count": 31,
   "metadata": {},
   "outputs": [
    {
     "data": {
      "text/plain": [
       "<AxesSubplot:>"
      ]
     },
     "execution_count": 31,
     "metadata": {},
     "output_type": "execute_result"
    },
    {
     "data": {
      "image/png": "[encoded data removed]",
      "text/plain": [
       "<Figure size 432x288 with 1 Axes>"
      ]
     },
     "metadata": {
      "needs_background": "light"
     },
     "output_type": "display_data"
    }
   ],
   "source": [
    "iris.boxplot()"
   ]
  },
  {
   "cell_type": "markdown",
   "metadata": {},
   "source": [
    "#### 2.7 Handling Missing Values\n",
    "There are very few values so we would prefer to fill the missing vales than drop the rows.\n",
    "We are using two different types of imputation (Mean and KNN) and comparing them."
   ]
  },
  {
   "cell_type": "code",
   "execution_count": 32,
   "metadata": {},
   "outputs": [
    {
     "data": {
      "text/plain": [
       "sepal_len    0\n",
       "sepal_wid    3\n",
       "petal_len    1\n",
       "petal_wid    1\n",
       "class        0\n",
       "dtype: int64"
      ]
     },
     "execution_count": 32,
     "metadata": {},
     "output_type": "execute_result"
    }
   ],
   "source": [
    "iris.isna().sum()"
   ]
  },
  {
   "cell_type": "code",
   "execution_count": 33,
   "metadata": {},
   "outputs": [],
   "source": [
    "# importing both imputers\n",
    "from sklearn.impute import SimpleImputer\n",
    "from fancyimpute import KNN"
   ]
  },
  {
   "cell_type": "code",
   "execution_count": 34,
   "metadata": {},
   "outputs": [],
   "source": [
    "# Doing simple imputer with mean strategy.\n",
    "# not passing the class column to imputer since this will force convert to float numpy array. Also class is categorical\n",
    "iris_mean = iris.copy(deep=True)\n",
    "mean_imputer = SimpleImputer(strategy='mean')\n",
    "iris_mean.iloc[:, :-1] = mean_imputer.fit_transform(iris_mean.iloc[:, :-1])"
   ]
  },
  {
   "cell_type": "code",
   "execution_count": 35,
   "metadata": {},
   "outputs": [
    {
     "name": "stdout",
     "output_type": "stream",
     "text": [
      "Imputing row 1/150 with 0 missing, elapsed time: 0.004\n",
      "Imputing row 101/150 with 0 missing, elapsed time: 0.004\n"
     ]
    }
   ],
   "source": [
    "#Doing  KNN imputation\n",
    "iris_knn = iris.copy(deep=True)\n",
    "knn_imputer = KNN()\n",
    "iris_knn.iloc[:, :-1] = knn_imputer.fit_transform(iris_knn.iloc[:, :-1])"
   ]
  },
  {
   "cell_type": "code",
   "execution_count": 36,
   "metadata": {},
   "outputs": [
    {
     "data": {
      "text/plain": [
       "Text(0.5, 1.0, 'KNN imputed Dataset')"
      ]
     },
     "execution_count": 36,
     "metadata": {},
     "output_type": "execute_result"
    },
    {
     "data": {
      "image/png": "[encoded data removed]",
      "text/plain": [
       "<Figure size 1080x720 with 12 Axes>"
      ]
     },
     "metadata": {
      "needs_background": "light"
     },
     "output_type": "display_data"
    }
   ],
   "source": [
    "# plotting all histograms and vizualizing what these imputations do to the dataset.\n",
    "fig,ax = plt.subplots(4,3)\n",
    "fig.set_size_inches(15,10)\n",
    "list1 = ['sepal_len','sepal_wid','petal_len','petal_wid']\n",
    "list2 =[0,1,2,3]\n",
    "for column,i in zip(list1,list2):\n",
    "    ax[i][0].hist(iris[column],bins=30,color='red',alpha=0.2)\n",
    "    ax[i][0].set_ylabel(column)\n",
    "    ax[i][1].hist(iris_mean[column],bins=30,color='blue',alpha=0.2)\n",
    "    ax[i][2].hist(iris_knn[column],bins=30,color='green',alpha=0.2)\n",
    "ax[0][0].set_title(\"Original Dataset\")\n",
    "ax[0][1].set_title(\"Mean imputed Dataset\")\n",
    "ax[0][2].set_title(\"KNN imputed Dataset\")"
   ]
  },
  {
   "cell_type": "markdown",
   "metadata": {},
   "source": [
    "Notes:\n",
    "- The imputers don't change the shape of the histograms significantly. This is because there are only few missing values.\n",
    "- Looking sepal length and width we see that they have single modality. While petal length and width look bi-modal\n",
    "- All the histograms look a bit choppy(with gaps) with some values having zero frequency. This could be either the nature of the iris or due to rounding off when collect the length data. Also we have very few data points (150 only)\n",
    "- The bi-modality and gaps in the histogram further makes me feel that we should not remove anymore outliers just because of their distance from the mean. We will stick with only removing -ve values. \n",
    "- In sepal_wid: The mean imputation is filling a value around 3.0 this is removing a gap which existed in the original data set. The KNN I feel is doing a better job and filling more towards the outlier clusters and maintaining the original shape.\n",
    "- Therefore we will go ahead with the KNN imputed dataset."
   ]
  },
  {
   "cell_type": "code",
   "execution_count": 37,
   "metadata": {},
   "outputs": [
    {
     "data": {
      "text/html": [
       "<div>\n",
       "<style scoped>\n",
       "    .dataframe tbody tr th:only-of-type {\n",
       "        vertical-align: middle;\n",
       "    }\n",
       "\n",
       "    .dataframe tbody tr th {\n",
       "        vertical-align: top;\n",
       "    }\n",
       "\n",
       "    .dataframe thead th {\n",
       "        text-align: right;\n",
       "    }\n",
       "</style>\n",
       "<table border=\"1\" class=\"dataframe\">\n",
       "  <thead>\n",
       "    <tr style=\"text-align: right;\">\n",
       "      <th></th>\n",
       "      <th>sepal_len</th>\n",
       "      <th>sepal_wid</th>\n",
       "      <th>petal_len</th>\n",
       "      <th>petal_wid</th>\n",
       "      <th>class</th>\n",
       "    </tr>\n",
       "    <tr>\n",
       "      <th>id</th>\n",
       "      <th></th>\n",
       "      <th></th>\n",
       "      <th></th>\n",
       "      <th></th>\n",
       "      <th></th>\n",
       "    </tr>\n",
       "  </thead>\n",
       "  <tbody>\n",
       "    <tr>\n",
       "      <th>1</th>\n",
       "      <td>9.5</td>\n",
       "      <td>3.5</td>\n",
       "      <td>1.4</td>\n",
       "      <td>0.2</td>\n",
       "      <td>1</td>\n",
       "    </tr>\n",
       "    <tr>\n",
       "      <th>2</th>\n",
       "      <td>4.9</td>\n",
       "      <td>3.0</td>\n",
       "      <td>1.4</td>\n",
       "      <td>0.2</td>\n",
       "      <td>1</td>\n",
       "    </tr>\n",
       "    <tr>\n",
       "      <th>3</th>\n",
       "      <td>4.7</td>\n",
       "      <td>3.2</td>\n",
       "      <td>1.3</td>\n",
       "      <td>0.2</td>\n",
       "      <td>1</td>\n",
       "    </tr>\n",
       "    <tr>\n",
       "      <th>4</th>\n",
       "      <td>4.6</td>\n",
       "      <td>3.1</td>\n",
       "      <td>1.5</td>\n",
       "      <td>0.2</td>\n",
       "      <td>1</td>\n",
       "    </tr>\n",
       "    <tr>\n",
       "      <th>5</th>\n",
       "      <td>5.0</td>\n",
       "      <td>3.6</td>\n",
       "      <td>1.4</td>\n",
       "      <td>0.2</td>\n",
       "      <td>1</td>\n",
       "    </tr>\n",
       "  </tbody>\n",
       "</table>\n",
       "</div>"
      ],
      "text/plain": [
       "    sepal_len  sepal_wid  petal_len  petal_wid class\n",
       "id                                                  \n",
       "1         9.5        3.5        1.4        0.2     1\n",
       "2         4.9        3.0        1.4        0.2     1\n",
       "3         4.7        3.2        1.3        0.2     1\n",
       "4         4.6        3.1        1.5        0.2     1\n",
       "5         5.0        3.6        1.4        0.2     1"
      ]
     },
     "execution_count": 37,
     "metadata": {},
     "output_type": "execute_result"
    }
   ],
   "source": [
    "# makeing df the cleaned iris dataset with KNN imputation\n",
    "df = iris_knn.copy(deep = True)\n",
    "df.head()"
   ]
  },
  {
   "cell_type": "markdown",
   "metadata": {},
   "source": [
    "#### 2.8 Normalizing the numeric values"
   ]
  },
  {
   "cell_type": "code",
   "execution_count": 38,
   "metadata": {},
   "outputs": [],
   "source": [
    "from sklearn import preprocessing"
   ]
  },
  {
   "cell_type": "code",
   "execution_count": 39,
   "metadata": {},
   "outputs": [
    {
     "data": {
      "text/html": [
       "<div>\n",
       "<style scoped>\n",
       "    .dataframe tbody tr th:only-of-type {\n",
       "        vertical-align: middle;\n",
       "    }\n",
       "\n",
       "    .dataframe tbody tr th {\n",
       "        vertical-align: top;\n",
       "    }\n",
       "\n",
       "    .dataframe thead th {\n",
       "        text-align: right;\n",
       "    }\n",
       "</style>\n",
       "<table border=\"1\" class=\"dataframe\">\n",
       "  <thead>\n",
       "    <tr style=\"text-align: right;\">\n",
       "      <th></th>\n",
       "      <th>sepal_len</th>\n",
       "      <th>sepal_wid</th>\n",
       "      <th>petal_len</th>\n",
       "      <th>petal_wid</th>\n",
       "      <th>class</th>\n",
       "    </tr>\n",
       "    <tr>\n",
       "      <th>id</th>\n",
       "      <th></th>\n",
       "      <th></th>\n",
       "      <th></th>\n",
       "      <th></th>\n",
       "      <th></th>\n",
       "    </tr>\n",
       "  </thead>\n",
       "  <tbody>\n",
       "    <tr>\n",
       "      <th>1</th>\n",
       "      <td>0.957143</td>\n",
       "      <td>0.590909</td>\n",
       "      <td>0.067797</td>\n",
       "      <td>0.041667</td>\n",
       "      <td>1</td>\n",
       "    </tr>\n",
       "    <tr>\n",
       "      <th>2</th>\n",
       "      <td>0.300000</td>\n",
       "      <td>0.363636</td>\n",
       "      <td>0.067797</td>\n",
       "      <td>0.041667</td>\n",
       "      <td>1</td>\n",
       "    </tr>\n",
       "    <tr>\n",
       "      <th>3</th>\n",
       "      <td>0.271429</td>\n",
       "      <td>0.454545</td>\n",
       "      <td>0.050847</td>\n",
       "      <td>0.041667</td>\n",
       "      <td>1</td>\n",
       "    </tr>\n",
       "    <tr>\n",
       "      <th>4</th>\n",
       "      <td>0.257143</td>\n",
       "      <td>0.409091</td>\n",
       "      <td>0.084746</td>\n",
       "      <td>0.041667</td>\n",
       "      <td>1</td>\n",
       "    </tr>\n",
       "    <tr>\n",
       "      <th>5</th>\n",
       "      <td>0.314286</td>\n",
       "      <td>0.636364</td>\n",
       "      <td>0.067797</td>\n",
       "      <td>0.041667</td>\n",
       "      <td>1</td>\n",
       "    </tr>\n",
       "  </tbody>\n",
       "</table>\n",
       "</div>"
      ],
      "text/plain": [
       "    sepal_len  sepal_wid  petal_len  petal_wid class\n",
       "id                                                  \n",
       "1    0.957143   0.590909   0.067797   0.041667     1\n",
       "2    0.300000   0.363636   0.067797   0.041667     1\n",
       "3    0.271429   0.454545   0.050847   0.041667     1\n",
       "4    0.257143   0.409091   0.084746   0.041667     1\n",
       "5    0.314286   0.636364   0.067797   0.041667     1"
      ]
     },
     "execution_count": 39,
     "metadata": {},
     "output_type": "execute_result"
    }
   ],
   "source": [
    "# Using MinMax Scalar to mormalize the dataset\n",
    "df_norm =df.copy(deep=True)\n",
    "minmax_scaler = preprocessing.MinMaxScaler(feature_range=(0, 1))\n",
    "df_norm.iloc[:,:-1] = minmax_scaler.fit_transform(df_norm.iloc[:,:-1])\n",
    "df_norm.head()"
   ]
  },
  {
   "cell_type": "markdown",
   "metadata": {},
   "source": [
    "- df = cleaned dataset\n",
    "- df_norm = normalized using minmax scaler the dataset"
   ]
  },
  {
   "cell_type": "markdown",
   "metadata": {},
   "source": [
    "### 3. Exploratory Data Analysis (36 pts)\n",
    "\n",
    "You will conduct an EDA process through descriptive statistics and dat visualization on two datasets you have created in Taks (2). \n",
    "\n",
    "Complete each of the following data analysis tasks. \n",
    "\n",
    "(1) For each attribute of the data, give the five-number summary, minimum, the first quartile (Q1), median, the third quartile (Q3), and maximum of the data.\n",
    "\n",
    "(2) For each field of the data, visulize a boxplot of the data. \n",
    "\n",
    "(3) For each field of the data, visualize distribution of the data by using histogram. \n",
    "\n",
    "(4) For each pair of the data, calculate the Pearson's correlation coefficient factor r. You can use corr() to get pair-wise r values. \n",
    "\n",
    "(5) For each pair of the data, visualize a scatter graph. \n",
    "\n",
    "(6) Given code segment that uses seaborn library for scatter plots, save the figure in a folder called fig.\n",
    "\n",
    "(7) Apply one data analysis tool you have learned from Data Camp, which can provide insightful trends (interesting aspects) that are not discovered above. \n",
    "\n",
    "(8) Based on the analysis from (1) through (6), identify outliers. If any, decide if you remove them or keep them and provide your reasoning. \n",
    "\n",
    "(9) Classification using decision tree algorithm.\n",
    "\n",
    "    - All implementation for (8) is done. If your data is cleaned, you should be able to run the Decision Tree algorithm on the data. Please make sure that your DataFrame follows the same format as the example shown in (8). "
   ]
  },
  {
   "cell_type": "markdown",
   "metadata": {},
   "source": [
    "#### Task (1) :  Five Number Summary\n",
    "\n",
    "- Get descriptive statistics, count, mean, standard deviation, and the five-number summary of the data: minimum, the first quartile (Q1), median, the third quartile (Q3), and maximum of the data.\n"
   ]
  },
  {
   "cell_type": "code",
   "execution_count": 40,
   "metadata": {},
   "outputs": [
    {
     "data": {
      "text/html": [
       "<div>\n",
       "<style scoped>\n",
       "    .dataframe tbody tr th:only-of-type {\n",
       "        vertical-align: middle;\n",
       "    }\n",
       "\n",
       "    .dataframe tbody tr th {\n",
       "        vertical-align: top;\n",
       "    }\n",
       "\n",
       "    .dataframe thead th {\n",
       "        text-align: right;\n",
       "    }\n",
       "</style>\n",
       "<table border=\"1\" class=\"dataframe\">\n",
       "  <thead>\n",
       "    <tr style=\"text-align: right;\">\n",
       "      <th></th>\n",
       "      <th>sepal_len</th>\n",
       "      <th>sepal_wid</th>\n",
       "      <th>petal_len</th>\n",
       "      <th>petal_wid</th>\n",
       "    </tr>\n",
       "  </thead>\n",
       "  <tbody>\n",
       "    <tr>\n",
       "      <th>count</th>\n",
       "      <td>150.000000</td>\n",
       "      <td>150.000000</td>\n",
       "      <td>150.000000</td>\n",
       "      <td>150.000000</td>\n",
       "    </tr>\n",
       "    <tr>\n",
       "      <th>mean</th>\n",
       "      <td>5.872000</td>\n",
       "      <td>3.056188</td>\n",
       "      <td>3.758835</td>\n",
       "      <td>1.201333</td>\n",
       "    </tr>\n",
       "    <tr>\n",
       "      <th>std</th>\n",
       "      <td>0.994017</td>\n",
       "      <td>0.432225</td>\n",
       "      <td>1.764185</td>\n",
       "      <td>0.767020</td>\n",
       "    </tr>\n",
       "    <tr>\n",
       "      <th>min</th>\n",
       "      <td>2.800000</td>\n",
       "      <td>2.200000</td>\n",
       "      <td>1.000000</td>\n",
       "      <td>0.100000</td>\n",
       "    </tr>\n",
       "    <tr>\n",
       "      <th>25%</th>\n",
       "      <td>5.100000</td>\n",
       "      <td>2.800000</td>\n",
       "      <td>1.600000</td>\n",
       "      <td>0.300000</td>\n",
       "    </tr>\n",
       "    <tr>\n",
       "      <th>50%</th>\n",
       "      <td>5.800000</td>\n",
       "      <td>3.000000</td>\n",
       "      <td>4.350000</td>\n",
       "      <td>1.300000</td>\n",
       "    </tr>\n",
       "    <tr>\n",
       "      <th>75%</th>\n",
       "      <td>6.400000</td>\n",
       "      <td>3.300000</td>\n",
       "      <td>5.100000</td>\n",
       "      <td>1.800000</td>\n",
       "    </tr>\n",
       "    <tr>\n",
       "      <th>max</th>\n",
       "      <td>9.800000</td>\n",
       "      <td>4.400000</td>\n",
       "      <td>6.900000</td>\n",
       "      <td>2.500000</td>\n",
       "    </tr>\n",
       "  </tbody>\n",
       "</table>\n",
       "</div>"
      ],
      "text/plain": [
       "        sepal_len   sepal_wid   petal_len   petal_wid\n",
       "count  150.000000  150.000000  150.000000  150.000000\n",
       "mean     5.872000    3.056188    3.758835    1.201333\n",
       "std      0.994017    0.432225    1.764185    0.767020\n",
       "min      2.800000    2.200000    1.000000    0.100000\n",
       "25%      5.100000    2.800000    1.600000    0.300000\n",
       "50%      5.800000    3.000000    4.350000    1.300000\n",
       "75%      6.400000    3.300000    5.100000    1.800000\n",
       "max      9.800000    4.400000    6.900000    2.500000"
      ]
     },
     "execution_count": 40,
     "metadata": {},
     "output_type": "execute_result"
    }
   ],
   "source": [
    "# descriptive statistics results for non-normalized\n",
    "df.describe()"
   ]
  },
  {
   "cell_type": "code",
   "execution_count": 41,
   "metadata": {},
   "outputs": [
    {
     "data": {
      "text/html": [
       "<div>\n",
       "<style scoped>\n",
       "    .dataframe tbody tr th:only-of-type {\n",
       "        vertical-align: middle;\n",
       "    }\n",
       "\n",
       "    .dataframe tbody tr th {\n",
       "        vertical-align: top;\n",
       "    }\n",
       "\n",
       "    .dataframe thead th {\n",
       "        text-align: right;\n",
       "    }\n",
       "</style>\n",
       "<table border=\"1\" class=\"dataframe\">\n",
       "  <thead>\n",
       "    <tr style=\"text-align: right;\">\n",
       "      <th></th>\n",
       "      <th>sepal_len</th>\n",
       "      <th>sepal_wid</th>\n",
       "      <th>petal_len</th>\n",
       "      <th>petal_wid</th>\n",
       "    </tr>\n",
       "  </thead>\n",
       "  <tbody>\n",
       "    <tr>\n",
       "      <th>count</th>\n",
       "      <td>150.000000</td>\n",
       "      <td>150.000000</td>\n",
       "      <td>150.000000</td>\n",
       "      <td>150.000000</td>\n",
       "    </tr>\n",
       "    <tr>\n",
       "      <th>mean</th>\n",
       "      <td>0.438857</td>\n",
       "      <td>0.389176</td>\n",
       "      <td>0.467599</td>\n",
       "      <td>0.458889</td>\n",
       "    </tr>\n",
       "    <tr>\n",
       "      <th>std</th>\n",
       "      <td>0.142002</td>\n",
       "      <td>0.196466</td>\n",
       "      <td>0.299014</td>\n",
       "      <td>0.319592</td>\n",
       "    </tr>\n",
       "    <tr>\n",
       "      <th>min</th>\n",
       "      <td>0.000000</td>\n",
       "      <td>0.000000</td>\n",
       "      <td>0.000000</td>\n",
       "      <td>0.000000</td>\n",
       "    </tr>\n",
       "    <tr>\n",
       "      <th>25%</th>\n",
       "      <td>0.328571</td>\n",
       "      <td>0.272727</td>\n",
       "      <td>0.101695</td>\n",
       "      <td>0.083333</td>\n",
       "    </tr>\n",
       "    <tr>\n",
       "      <th>50%</th>\n",
       "      <td>0.428571</td>\n",
       "      <td>0.363636</td>\n",
       "      <td>0.567797</td>\n",
       "      <td>0.500000</td>\n",
       "    </tr>\n",
       "    <tr>\n",
       "      <th>75%</th>\n",
       "      <td>0.514286</td>\n",
       "      <td>0.500000</td>\n",
       "      <td>0.694915</td>\n",
       "      <td>0.708333</td>\n",
       "    </tr>\n",
       "    <tr>\n",
       "      <th>max</th>\n",
       "      <td>1.000000</td>\n",
       "      <td>1.000000</td>\n",
       "      <td>1.000000</td>\n",
       "      <td>1.000000</td>\n",
       "    </tr>\n",
       "  </tbody>\n",
       "</table>\n",
       "</div>"
      ],
      "text/plain": [
       "        sepal_len   sepal_wid   petal_len   petal_wid\n",
       "count  150.000000  150.000000  150.000000  150.000000\n",
       "mean     0.438857    0.389176    0.467599    0.458889\n",
       "std      0.142002    0.196466    0.299014    0.319592\n",
       "min      0.000000    0.000000    0.000000    0.000000\n",
       "25%      0.328571    0.272727    0.101695    0.083333\n",
       "50%      0.428571    0.363636    0.567797    0.500000\n",
       "75%      0.514286    0.500000    0.694915    0.708333\n",
       "max      1.000000    1.000000    1.000000    1.000000"
      ]
     },
     "execution_count": 41,
     "metadata": {},
     "output_type": "execute_result"
    }
   ],
   "source": [
    "# descriptive statistics results for normalized dataset\n",
    "df_norm.describe()"
   ]
  },
  {
   "cell_type": "markdown",
   "metadata": {},
   "source": [
    "Notes: We can see that the MinMax Scalar has fit all the values between 0 and 1."
   ]
  },
  {
   "cell_type": "markdown",
   "metadata": {},
   "source": [
    "#### Task (2) :  Boxplot Vizualization\n",
    "\n",
    "- For each field of the data, visulize a boxplot of the data."
   ]
  },
  {
   "cell_type": "code",
   "execution_count": 42,
   "metadata": {},
   "outputs": [
    {
     "data": {
      "text/plain": [
       "<AxesSubplot:>"
      ]
     },
     "execution_count": 42,
     "metadata": {},
     "output_type": "execute_result"
    },
    {
     "data": {
      "image/png": "[encoded data removed]",
      "text/plain": [
       "<Figure size 432x288 with 1 Axes>"
      ]
     },
     "metadata": {
      "needs_background": "light"
     },
     "output_type": "display_data"
    }
   ],
   "source": [
    "# Boxplot for non-normalized data\n",
    "df.iloc[:,:-1].boxplot()"
   ]
  },
  {
   "cell_type": "code",
   "execution_count": 43,
   "metadata": {},
   "outputs": [
    {
     "data": {
      "text/plain": [
       "<AxesSubplot:>"
      ]
     },
     "execution_count": 43,
     "metadata": {},
     "output_type": "execute_result"
    },
    {
     "data": {
      "image/png": "[encoded data removed]",
      "text/plain": [
       "<Figure size 432x288 with 1 Axes>"
      ]
     },
     "metadata": {
      "needs_background": "light"
     },
     "output_type": "display_data"
    }
   ],
   "source": [
    "# Boxplot for normalized data\n",
    "df_norm.iloc[:,:-1].boxplot()"
   ]
  },
  {
   "cell_type": "markdown",
   "metadata": {},
   "source": [
    "Note: Looking at the boxplots we can see that the MinMax scaler id stretching out some features and squeezing some other features. The sepal_length which tends to have a higher value in is adjusted between (0,1). petal_wid with tends to have smaller values is now comparable in strength to the other features.  "
   ]
  },
  {
   "cell_type": "markdown",
   "metadata": {},
   "source": [
    "#### Task (3) : Histogram Visualization\n",
    "- For each field of the data, visualize distribution of the data by using histogram."
   ]
  },
  {
   "cell_type": "code",
   "execution_count": 44,
   "metadata": {},
   "outputs": [
    {
     "data": {
      "text/plain": [
       "Text(0.5, 1.0, 'Normalized Dataset')"
      ]
     },
     "execution_count": 44,
     "metadata": {},
     "output_type": "execute_result"
    },
    {
     "data": {
      "image/png": "[encoded data removed]",
      "text/plain": [
       "<Figure size 1080x1080 with 8 Axes>"
      ]
     },
     "metadata": {
      "needs_background": "light"
     },
     "output_type": "display_data"
    }
   ],
   "source": [
    "# plotting all histograms and vizualizing both normalized and non-nomalized data.\n",
    "fig,ax = plt.subplots(4,2)\n",
    "fig.set_size_inches(15,15)\n",
    "list1 = ['sepal_len','sepal_wid','petal_len','petal_wid']\n",
    "list2 =[0,1,2,3]\n",
    "for column,i in zip(list1,list2):\n",
    "    ax[i][0].hist(df[column],bins=30,color='red',alpha=0.2)\n",
    "    ax[i][0].set_ylabel(column)\n",
    "    ax[i][1].hist(df_norm[column],bins=30,color='green',alpha=0.2)\n",
    "    \n",
    "ax[0][0].set_title(\"Non-Normalized Dataset\")\n",
    "ax[0][1].set_title(\"Normalized Dataset\")"
   ]
  },
  {
   "cell_type": "markdown",
   "metadata": {},
   "source": [
    "Note: Normalization does not change the overall shape of the histogram"
   ]
  },
  {
   "cell_type": "markdown",
   "metadata": {},
   "source": [
    "#### Task (4) : Pearsons Correlation\n",
    "- For each pair of the data, calculate the Pearson's correlation coefficient factor r. You can use corr() to get pair-wise r values."
   ]
  },
  {
   "cell_type": "code",
   "execution_count": 45,
   "metadata": {},
   "outputs": [
    {
     "data": {
      "text/html": [
       "<div>\n",
       "<style scoped>\n",
       "    .dataframe tbody tr th:only-of-type {\n",
       "        vertical-align: middle;\n",
       "    }\n",
       "\n",
       "    .dataframe tbody tr th {\n",
       "        vertical-align: top;\n",
       "    }\n",
       "\n",
       "    .dataframe thead th {\n",
       "        text-align: right;\n",
       "    }\n",
       "</style>\n",
       "<table border=\"1\" class=\"dataframe\">\n",
       "  <thead>\n",
       "    <tr style=\"text-align: right;\">\n",
       "      <th></th>\n",
       "      <th>sepal_len</th>\n",
       "      <th>sepal_wid</th>\n",
       "      <th>petal_len</th>\n",
       "      <th>petal_wid</th>\n",
       "    </tr>\n",
       "  </thead>\n",
       "  <tbody>\n",
       "    <tr>\n",
       "      <th>sepal_len</th>\n",
       "      <td>1.000000</td>\n",
       "      <td>-0.033946</td>\n",
       "      <td>0.666955</td>\n",
       "      <td>0.615002</td>\n",
       "    </tr>\n",
       "    <tr>\n",
       "      <th>sepal_wid</th>\n",
       "      <td>-0.033946</td>\n",
       "      <td>1.000000</td>\n",
       "      <td>-0.425991</td>\n",
       "      <td>-0.359179</td>\n",
       "    </tr>\n",
       "    <tr>\n",
       "      <th>petal_len</th>\n",
       "      <td>0.666955</td>\n",
       "      <td>-0.425991</td>\n",
       "      <td>1.000000</td>\n",
       "      <td>0.961766</td>\n",
       "    </tr>\n",
       "    <tr>\n",
       "      <th>petal_wid</th>\n",
       "      <td>0.615002</td>\n",
       "      <td>-0.359179</td>\n",
       "      <td>0.961766</td>\n",
       "      <td>1.000000</td>\n",
       "    </tr>\n",
       "  </tbody>\n",
       "</table>\n",
       "</div>"
      ],
      "text/plain": [
       "           sepal_len  sepal_wid  petal_len  petal_wid\n",
       "sepal_len   1.000000  -0.033946   0.666955   0.615002\n",
       "sepal_wid  -0.033946   1.000000  -0.425991  -0.359179\n",
       "petal_len   0.666955  -0.425991   1.000000   0.961766\n",
       "petal_wid   0.615002  -0.359179   0.961766   1.000000"
      ]
     },
     "execution_count": 45,
     "metadata": {},
     "output_type": "execute_result"
    }
   ],
   "source": [
    "# get the correlation r values for each pair of the not normalized data\n",
    "df.corr()"
   ]
  },
  {
   "cell_type": "code",
   "execution_count": 46,
   "metadata": {},
   "outputs": [
    {
     "data": {
      "text/html": [
       "<div>\n",
       "<style scoped>\n",
       "    .dataframe tbody tr th:only-of-type {\n",
       "        vertical-align: middle;\n",
       "    }\n",
       "\n",
       "    .dataframe tbody tr th {\n",
       "        vertical-align: top;\n",
       "    }\n",
       "\n",
       "    .dataframe thead th {\n",
       "        text-align: right;\n",
       "    }\n",
       "</style>\n",
       "<table border=\"1\" class=\"dataframe\">\n",
       "  <thead>\n",
       "    <tr style=\"text-align: right;\">\n",
       "      <th></th>\n",
       "      <th>sepal_len</th>\n",
       "      <th>sepal_wid</th>\n",
       "      <th>petal_len</th>\n",
       "      <th>petal_wid</th>\n",
       "    </tr>\n",
       "  </thead>\n",
       "  <tbody>\n",
       "    <tr>\n",
       "      <th>sepal_len</th>\n",
       "      <td>1.000000</td>\n",
       "      <td>-0.033946</td>\n",
       "      <td>0.666955</td>\n",
       "      <td>0.615002</td>\n",
       "    </tr>\n",
       "    <tr>\n",
       "      <th>sepal_wid</th>\n",
       "      <td>-0.033946</td>\n",
       "      <td>1.000000</td>\n",
       "      <td>-0.425991</td>\n",
       "      <td>-0.359179</td>\n",
       "    </tr>\n",
       "    <tr>\n",
       "      <th>petal_len</th>\n",
       "      <td>0.666955</td>\n",
       "      <td>-0.425991</td>\n",
       "      <td>1.000000</td>\n",
       "      <td>0.961766</td>\n",
       "    </tr>\n",
       "    <tr>\n",
       "      <th>petal_wid</th>\n",
       "      <td>0.615002</td>\n",
       "      <td>-0.359179</td>\n",
       "      <td>0.961766</td>\n",
       "      <td>1.000000</td>\n",
       "    </tr>\n",
       "  </tbody>\n",
       "</table>\n",
       "</div>"
      ],
      "text/plain": [
       "           sepal_len  sepal_wid  petal_len  petal_wid\n",
       "sepal_len   1.000000  -0.033946   0.666955   0.615002\n",
       "sepal_wid  -0.033946   1.000000  -0.425991  -0.359179\n",
       "petal_len   0.666955  -0.425991   1.000000   0.961766\n",
       "petal_wid   0.615002  -0.359179   0.961766   1.000000"
      ]
     },
     "execution_count": 46,
     "metadata": {},
     "output_type": "execute_result"
    }
   ],
   "source": [
    "# get the correlation r values for each pair of the  normalized data\n",
    "df_norm.corr()"
   ]
  },
  {
   "cell_type": "markdown",
   "metadata": {},
   "source": [
    "Notes: \n",
    "- Normalizing the date should not change the correlation between them as we can see. \n",
    "- Also petal_wid and petal_len are highly correlated to each other (0.96)\n"
   ]
  },
  {
   "cell_type": "markdown",
   "metadata": {},
   "source": [
    "#### Task (5) Scatter Plot Pairs\n",
    "- For each of the following pairs of the data, visualize a scatter plot.\n",
    "\n",
    "- Pairs we are interested in\n",
    "\n",
    "\n",
    "-- SepalLen-SepalWid\n",
    "\n",
    "-- PetalLen-PetalWid\n",
    "\n",
    "-- SepalLen-PetalLen\n",
    "\n",
    "-- SepalWid-PetalWid\n",
    "\n",
    "-- SepalLen-PetalWid\n",
    "\n",
    "-- SepalWid-PetalLen"
   ]
  },
  {
   "cell_type": "code",
   "execution_count": 47,
   "metadata": {},
   "outputs": [
    {
     "data": {
      "image/png": "[encoded data removed]",
      "text/plain": [
       "<Figure size 762.375x720 with 20 Axes>"
      ]
     },
     "metadata": {
      "needs_background": "light"
     },
     "output_type": "display_data"
    }
   ],
   "source": [
    "# SNS Pairplots\n",
    "sns.pairplot(df, hue='class', plot_kws={'alpha':0.3})\n",
    "plt.show()"
   ]
  },
  {
   "cell_type": "markdown",
   "metadata": {},
   "source": [
    "Notes: \n",
    "- The setosa variety (class = 1) has the smallest petals with some of the largest sepal length and width. Its sepal size spread accross having high deviation. The petal size is small and with very low deviation - sharp curve \n",
    "- The versicolor variet tend to always be it the middle\n",
    "- The virginica variety has very large and wide petals with average sepal width and length\n",
    "- Although some scatter plots show a few outliers the oulier in sepal_len and sepal_width plots are not ouliers in petal_len and petal_wid plot. They clearly fall into a cluster and show high correlation. So we will not be removing these outliers."
   ]
  },
  {
   "cell_type": "markdown",
   "metadata": {},
   "source": [
    "#### Task (6) : Swarm plot and save figure to file\n",
    "\n",
    "We would like to save a figure generated by data plotting in a local folder named fig. The current cell generates a plot and display it. But it does not save the figure. \n",
    "\n",
    "- Check the given folder of midterm_part2 if you have a folder named fig. \n",
    "\n",
    "- Add a Python statement to save the figure as 'iris_scatter.png' in figures folder. You need to pass a relative path of the file as parameter to a function of matplotlib.pyplot. \n",
    "\n",
    "- Once you execute the cell, check the folder fig if 'iris_scatter.png' file is saved. \n",
    "\n",
    "- I assume that the data is stored in a DataFrame named df. "
   ]
  },
  {
   "cell_type": "code",
   "execution_count": 48,
   "metadata": {},
   "outputs": [
    {
     "data": {
      "image/png": "[encoded data removed]",
      "text/plain": [
       "<Figure size 1080x576 with 1 Axes>"
      ]
     },
     "metadata": {
      "needs_background": "light"
     },
     "output_type": "display_data"
    }
   ],
   "source": [
    "# import seaborn module\n",
    "import matplotlib.pyplot as plt\n",
    "import seaborn as sns\n",
    "\n",
    "# for xtick rounding up\n",
    "df_sns = df.copy(deep=True)\n",
    "df_sns['sepal_wid'] = df_sns['sepal_wid'].round(decimals=2) \n",
    "\n",
    "#Added\n",
    "fig, ax = plt.subplots()\n",
    "fig.set_size_inches(15,8)\n",
    "\n",
    "# Draw a categorical scatterplot to show each observation\n",
    "ax = sns.swarmplot(data=df_sns, x='sepal_wid', y='sepal_len', hue=\"class\")\n",
    "ax.set(xlabel='Sepal Width', ylabel='Sepal Length')\n",
    "\n",
    "#Format xticks to 1 decimal and display nicely \n",
    "plt.xticks(rotation=45 )\n",
    "\n",
    "\n",
    "\n",
    "# Save the figure and display the plot. Currenly it only displays the figure. \n",
    "fig.savefig(\"./fig/iris_scatter.png\")\n",
    "plt.show()"
   ]
  },
  {
   "cell_type": "markdown",
   "metadata": {},
   "source": [
    "#### Task(7) : Something interesting from DataCamp\n",
    "- Apply one data analysis tool you have learned from Data Camp, which can provide insightful trends (interesting aspects) that are not discovered above"
   ]
  },
  {
   "cell_type": "code",
   "execution_count": 49,
   "metadata": {},
   "outputs": [
    {
     "data": {
      "text/plain": [
       "<matplotlib.legend.Legend at 0x7fe63c004220>"
      ]
     },
     "execution_count": 49,
     "metadata": {},
     "output_type": "execute_result"
    },
    {
     "data": {
      "image/png": "[encoded data removed]",
      "text/plain": [
       "<Figure size 432x288 with 1 Axes>"
      ]
     },
     "metadata": {
      "needs_background": "light"
     },
     "output_type": "display_data"
    }
   ],
   "source": [
    "sns.kdeplot(df_norm['sepal_len'], label=\"Sepal Length\", color =\"Magenta\")\n",
    "sns.kdeplot(df_norm['sepal_wid'], label=\"Sepal Width\")\n",
    "sns.kdeplot(df_norm['petal_len'], label=\"Petal Length\")\n",
    "sns.kdeplot(df_norm['petal_wid'], label=\"Petal Width\")\n",
    "plt.legend()"
   ]
  },
  {
   "cell_type": "code",
   "execution_count": 50,
   "metadata": {
    "scrolled": true
   },
   "outputs": [
    {
     "data": {
      "text/plain": [
       "<matplotlib.legend.Legend at 0x7fe629453670>"
      ]
     },
     "execution_count": 50,
     "metadata": {},
     "output_type": "execute_result"
    },
    {
     "data": {
      "image/png": "[encoded data removed]",
      "text/plain": [
       "<Figure size 432x288 with 1 Axes>"
      ]
     },
     "metadata": {
      "needs_background": "light"
     },
     "output_type": "display_data"
    }
   ],
   "source": [
    "sns.kdeplot(df['sepal_len'], label=\"Sepal Length\",color =\"Magenta\")\n",
    "sns.kdeplot(df['sepal_wid'], label=\"Sepal Width\")\n",
    "sns.kdeplot(df['petal_len'], label=\"Petal Length\")\n",
    "sns.kdeplot(df['petal_wid'], label=\"Petal Width\")\n",
    "plt.legend()"
   ]
  },
  {
   "cell_type": "markdown",
   "metadata": {},
   "source": [
    "Notes: The two kdeplots of normalized and not normalized data show the same pattern for Sepal Width, Petal Length, Petal Width as they did in the histogram. \n",
    "- Sepal Width has single modal with slight right skew.\n",
    "- Petal Length and Petal Width are both bi-modal. More clearly visible in kdeplot\n",
    "- However looking at Sepal Length (Magenta colored) there is a slight tri-modality where the suspected outliers were present. This is interesting as the ouliers in this case form a very tiny cluster and therefore we cannot tell if tri-modality is indeed the distribution for iris sepal lengths or these small peaks are just error outliers that need to be removed.\n",
    "- Since the outlier do form a cluster albeit very small it makes sense to not remove them."
   ]
  },
  {
   "cell_type": "markdown",
   "metadata": {},
   "source": [
    "####  Task (8) \n",
    "\n",
    "Cluster analysis\n",
    "\n",
    "- Based on your analysis (1) through (6), identify outliers and decide either you remove them or keep them. The decision should be suppored by rationale. "
   ]
  },
  {
   "cell_type": "markdown",
   "metadata": {},
   "source": [
    "1. Descriptive analysis indicated one negative value which was immediately removed. The min and max values after removing the negative value are reasonable and possible.\n",
    "2. Based on analysis of histogram we see that some frequencies have gaps and some features show bi-modality. This again argues for not removing any outlier as seen in the boxplot. (above 1.5X)\n",
    "3. Scatter plot of various pairs on sepal and petal, length and width show that a few outlier are present for the sepal scatter plots. However they all correlate highly and form tight clusters in the petal scatter plots. If these values are corrupt outliers it makes no sense that the sepal values were not correctly measured but the petal values for the same data point were correctly measured.\n",
    "4. The kdeplot show slight trimodality for sepal length.\n",
    "5. The swarm plot similarly shows that the outliers for sepal_len vs sepal_width are mostly of setosa variety which has higher spread seen in sns.pairplots()\n",
    "**Therefore we will not remove anymore outliers at this stage**"
   ]
  },
  {
   "cell_type": "markdown",
   "metadata": {},
   "source": [
    "#### Task (9) Apply Decision Tree Classifier \n",
    "\n",
    "Please make sure that your DataFrame named df and it includes five attributes as shown below:\n",
    "\n",
    "<img src=\"./img/df.png\" alt=\"DataFrame\" style=\"width: 300px;\"/>\n",
    "\n",
    "- The two cells below are completely done. If you have a cleaned data stored in a dataframe df, these cells should work without any issues. \n",
    "\n",
    "- The given examples show a k-cross validation framework and an application of decision tree (Gini algorithm) classifier, and basic process of model evaluation. \n"
   ]
  },
  {
   "cell_type": "code",
   "execution_count": 51,
   "metadata": {},
   "outputs": [
    {
     "data": {
      "text/html": [
       "<div>\n",
       "<style scoped>\n",
       "    .dataframe tbody tr th:only-of-type {\n",
       "        vertical-align: middle;\n",
       "    }\n",
       "\n",
       "    .dataframe tbody tr th {\n",
       "        vertical-align: top;\n",
       "    }\n",
       "\n",
       "    .dataframe thead th {\n",
       "        text-align: right;\n",
       "    }\n",
       "</style>\n",
       "<table border=\"1\" class=\"dataframe\">\n",
       "  <thead>\n",
       "    <tr style=\"text-align: right;\">\n",
       "      <th></th>\n",
       "      <th>sepal_len</th>\n",
       "      <th>sepal_wid</th>\n",
       "      <th>petal_len</th>\n",
       "      <th>petal_wid</th>\n",
       "      <th>class</th>\n",
       "    </tr>\n",
       "    <tr>\n",
       "      <th>id</th>\n",
       "      <th></th>\n",
       "      <th></th>\n",
       "      <th></th>\n",
       "      <th></th>\n",
       "      <th></th>\n",
       "    </tr>\n",
       "  </thead>\n",
       "  <tbody>\n",
       "    <tr>\n",
       "      <th>1</th>\n",
       "      <td>9.5</td>\n",
       "      <td>3.5</td>\n",
       "      <td>1.4</td>\n",
       "      <td>0.2</td>\n",
       "      <td>1</td>\n",
       "    </tr>\n",
       "    <tr>\n",
       "      <th>2</th>\n",
       "      <td>4.9</td>\n",
       "      <td>3.0</td>\n",
       "      <td>1.4</td>\n",
       "      <td>0.2</td>\n",
       "      <td>1</td>\n",
       "    </tr>\n",
       "    <tr>\n",
       "      <th>3</th>\n",
       "      <td>4.7</td>\n",
       "      <td>3.2</td>\n",
       "      <td>1.3</td>\n",
       "      <td>0.2</td>\n",
       "      <td>1</td>\n",
       "    </tr>\n",
       "    <tr>\n",
       "      <th>4</th>\n",
       "      <td>4.6</td>\n",
       "      <td>3.1</td>\n",
       "      <td>1.5</td>\n",
       "      <td>0.2</td>\n",
       "      <td>1</td>\n",
       "    </tr>\n",
       "    <tr>\n",
       "      <th>5</th>\n",
       "      <td>5.0</td>\n",
       "      <td>3.6</td>\n",
       "      <td>1.4</td>\n",
       "      <td>0.2</td>\n",
       "      <td>1</td>\n",
       "    </tr>\n",
       "  </tbody>\n",
       "</table>\n",
       "</div>"
      ],
      "text/plain": [
       "    sepal_len  sepal_wid  petal_len  petal_wid class\n",
       "id                                                  \n",
       "1         9.5        3.5        1.4        0.2     1\n",
       "2         4.9        3.0        1.4        0.2     1\n",
       "3         4.7        3.2        1.3        0.2     1\n",
       "4         4.6        3.1        1.5        0.2     1\n",
       "5         5.0        3.6        1.4        0.2     1"
      ]
     },
     "execution_count": 51,
     "metadata": {},
     "output_type": "execute_result"
    }
   ],
   "source": [
    "df.head()\n",
    "# index is slightly different but should not impact the Decisicion Tree "
   ]
  },
  {
   "cell_type": "markdown",
   "metadata": {},
   "source": [
    "#### 9.1 DecisionTreeClassifier with Not Normalized data"
   ]
  },
  {
   "cell_type": "code",
   "execution_count": 52,
   "metadata": {},
   "outputs": [
    {
     "name": "stdout",
     "output_type": "stream",
     "text": [
      "[[12  0  0]\n",
      " [ 0 16  2]\n",
      " [ 0  3 12]]\n",
      "              precision    recall  f1-score   support\n",
      "\n",
      "      setosa       1.00      1.00      1.00        12\n",
      "  versicolor       0.84      0.89      0.86        18\n",
      "   virginica       0.86      0.80      0.83        15\n",
      "\n",
      "    accuracy                           0.89        45\n",
      "   macro avg       0.90      0.90      0.90        45\n",
      "weighted avg       0.89      0.89      0.89        45\n",
      "\n"
     ]
    }
   ],
   "source": [
    "from sklearn.metrics import confusion_matrix\n",
    "from sklearn.metrics import classification_report\n",
    "from sklearn.model_selection import train_test_split\n",
    "from sklearn.tree import DecisionTreeClassifier\n",
    "\n",
    "\n",
    "X = df.iloc[:, :4] # petal length and width\n",
    "y = df.iloc[:, 4]\n",
    "\n",
    "X_train, X_test, y_train, y_test = train_test_split(X, y, test_size=0.30)\n",
    "\n",
    "tree_clf = DecisionTreeClassifier(max_depth=2, criterion=\"gini\", random_state=42)\n",
    "tree_clf.fit(X_train, y_train)\n",
    "\n",
    "y_pred = tree_clf.predict(X_test)\n",
    "\n",
    "# plot a confusion matrix\n",
    "confusion_mat = confusion_matrix(y_test, y_pred)\n",
    "\n",
    "print(confusion_mat)\n",
    "\n",
    "target_names = ['setosa', 'versicolor', 'virginica']\n",
    "column_names = df.drop(['class'], axis=1).columns\n",
    "\n",
    "result_metrics = classification_report(y_test, y_pred, target_names=target_names)\n",
    "\n",
    "print(result_metrics)"
   ]
  },
  {
   "cell_type": "code",
   "execution_count": 53,
   "metadata": {},
   "outputs": [
    {
     "data": {
      "image/svg+xml": [
       "<?xml version=\"1.0\" encoding=\"UTF-8\" standalone=\"no\"?>\n",
       "<!DOCTYPE svg PUBLIC \"-//W3C//DTD SVG 1.1//EN\"\n",
       " \"http://www.w3.org/Graphics/SVG/1.1/DTD/svg11.dtd\">\n",
       "<!-- Generated by graphviz version 2.49.3 (20211023.0002)\n",
       " -->\n",
       "<!-- Title: Tree Pages: 1 -->\n",
       "<svg width=\"340pt\" height=\"314pt\"\n",
       " viewBox=\"0.00 0.00 340.00 314.00\" xmlns=\"http://www.w3.org/2000/svg\" xmlns:xlink=\"http://www.w3.org/1999/xlink\">\n",
       "<g id=\"graph0\" class=\"graph\" transform=\"scale(1 1) rotate(0) translate(4 310)\">\n",
       "<title>Tree</title>\n",
       "<polygon fill=\"white\" stroke=\"transparent\" points=\"-4,4 -4,-310 336,-310 336,4 -4,4\"/>\n",
       "<!-- 0 -->\n",
       "<g id=\"node1\" class=\"node\">\n",
       "<title>0</title>\n",
       "<path fill=\"#fefaf7\" stroke=\"black\" d=\"M187,-306C187,-306 75,-306 75,-306 69,-306 63,-300 63,-294 63,-294 63,-235 63,-235 63,-229 69,-223 75,-223 75,-223 187,-223 187,-223 193,-223 199,-229 199,-235 199,-235 199,-294 199,-294 199,-300 193,-306 187,-306\"/>\n",
       "<text text-anchor=\"middle\" x=\"131\" y=\"-290.8\" font-family=\"Helvetica,sans-Serif\" font-size=\"14.00\">petal_len &lt;= 2.45</text>\n",
       "<text text-anchor=\"middle\" x=\"131\" y=\"-275.8\" font-family=\"Helvetica,sans-Serif\" font-size=\"14.00\">gini = 0.665</text>\n",
       "<text text-anchor=\"middle\" x=\"131\" y=\"-260.8\" font-family=\"Helvetica,sans-Serif\" font-size=\"14.00\">samples = 105</text>\n",
       "<text text-anchor=\"middle\" x=\"131\" y=\"-245.8\" font-family=\"Helvetica,sans-Serif\" font-size=\"14.00\">value = [38, 32, 35]</text>\n",
       "<text text-anchor=\"middle\" x=\"131\" y=\"-230.8\" font-family=\"Helvetica,sans-Serif\" font-size=\"14.00\">class = setosa</text>\n",
       "</g>\n",
       "<!-- 1 -->\n",
       "<g id=\"node2\" class=\"node\">\n",
       "<title>1</title>\n",
       "<path fill=\"#e58139\" stroke=\"black\" d=\"M108,-179.5C108,-179.5 12,-179.5 12,-179.5 6,-179.5 0,-173.5 0,-167.5 0,-167.5 0,-123.5 0,-123.5 0,-117.5 6,-111.5 12,-111.5 12,-111.5 108,-111.5 108,-111.5 114,-111.5 120,-117.5 120,-123.5 120,-123.5 120,-167.5 120,-167.5 120,-173.5 114,-179.5 108,-179.5\"/>\n",
       "<text text-anchor=\"middle\" x=\"60\" y=\"-164.3\" font-family=\"Helvetica,sans-Serif\" font-size=\"14.00\">gini = 0.0</text>\n",
       "<text text-anchor=\"middle\" x=\"60\" y=\"-149.3\" font-family=\"Helvetica,sans-Serif\" font-size=\"14.00\">samples = 38</text>\n",
       "<text text-anchor=\"middle\" x=\"60\" y=\"-134.3\" font-family=\"Helvetica,sans-Serif\" font-size=\"14.00\">value = [38, 0, 0]</text>\n",
       "<text text-anchor=\"middle\" x=\"60\" y=\"-119.3\" font-family=\"Helvetica,sans-Serif\" font-size=\"14.00\">class = setosa</text>\n",
       "</g>\n",
       "<!-- 0&#45;&gt;1 -->\n",
       "<g id=\"edge1\" class=\"edge\">\n",
       "<title>0&#45;&gt;1</title>\n",
       "<path fill=\"none\" stroke=\"black\" d=\"M106.37,-222.91C99.6,-211.76 92.26,-199.66 85.45,-188.44\"/>\n",
       "<polygon fill=\"black\" stroke=\"black\" points=\"88.31,-186.4 80.13,-179.67 82.32,-190.03 88.31,-186.4\"/>\n",
       "<text text-anchor=\"middle\" x=\"74.19\" y=\"-200.25\" font-family=\"Helvetica,sans-Serif\" font-size=\"14.00\">True</text>\n",
       "</g>\n",
       "<!-- 2 -->\n",
       "<g id=\"node3\" class=\"node\">\n",
       "<title>2</title>\n",
       "<path fill=\"#f4eefd\" stroke=\"black\" d=\"M254,-187C254,-187 150,-187 150,-187 144,-187 138,-181 138,-175 138,-175 138,-116 138,-116 138,-110 144,-104 150,-104 150,-104 254,-104 254,-104 260,-104 266,-110 266,-116 266,-116 266,-175 266,-175 266,-181 260,-187 254,-187\"/>\n",
       "<text text-anchor=\"middle\" x=\"202\" y=\"-171.8\" font-family=\"Helvetica,sans-Serif\" font-size=\"14.00\">petal_len &lt;= 4.95</text>\n",
       "<text text-anchor=\"middle\" x=\"202\" y=\"-156.8\" font-family=\"Helvetica,sans-Serif\" font-size=\"14.00\">gini = 0.499</text>\n",
       "<text text-anchor=\"middle\" x=\"202\" y=\"-141.8\" font-family=\"Helvetica,sans-Serif\" font-size=\"14.00\">samples = 67</text>\n",
       "<text text-anchor=\"middle\" x=\"202\" y=\"-126.8\" font-family=\"Helvetica,sans-Serif\" font-size=\"14.00\">value = [0, 32, 35]</text>\n",
       "<text text-anchor=\"middle\" x=\"202\" y=\"-111.8\" font-family=\"Helvetica,sans-Serif\" font-size=\"14.00\">class = virginica</text>\n",
       "</g>\n",
       "<!-- 0&#45;&gt;2 -->\n",
       "<g id=\"edge2\" class=\"edge\">\n",
       "<title>0&#45;&gt;2</title>\n",
       "<path fill=\"none\" stroke=\"black\" d=\"M155.63,-222.91C160.97,-214.1 166.68,-204.7 172.2,-195.61\"/>\n",
       "<polygon fill=\"black\" stroke=\"black\" points=\"175.21,-197.39 177.41,-187.02 169.23,-193.75 175.21,-197.39\"/>\n",
       "<text text-anchor=\"middle\" x=\"183.35\" y=\"-207.6\" font-family=\"Helvetica,sans-Serif\" font-size=\"14.00\">False</text>\n",
       "</g>\n",
       "<!-- 3 -->\n",
       "<g id=\"node4\" class=\"node\">\n",
       "<title>3</title>\n",
       "<path fill=\"#4ce78d\" stroke=\"black\" d=\"M182,-68C182,-68 82,-68 82,-68 76,-68 70,-62 70,-56 70,-56 70,-12 70,-12 70,-6 76,0 82,0 82,0 182,0 182,0 188,0 194,-6 194,-12 194,-12 194,-56 194,-56 194,-62 188,-68 182,-68\"/>\n",
       "<text text-anchor=\"middle\" x=\"132\" y=\"-52.8\" font-family=\"Helvetica,sans-Serif\" font-size=\"14.00\">gini = 0.157</text>\n",
       "<text text-anchor=\"middle\" x=\"132\" y=\"-37.8\" font-family=\"Helvetica,sans-Serif\" font-size=\"14.00\">samples = 35</text>\n",
       "<text text-anchor=\"middle\" x=\"132\" y=\"-22.8\" font-family=\"Helvetica,sans-Serif\" font-size=\"14.00\">value = [0, 32, 3]</text>\n",
       "<text text-anchor=\"middle\" x=\"132\" y=\"-7.8\" font-family=\"Helvetica,sans-Serif\" font-size=\"14.00\">class = versicolor</text>\n",
       "</g>\n",
       "<!-- 2&#45;&gt;3 -->\n",
       "<g id=\"edge3\" class=\"edge\">\n",
       "<title>2&#45;&gt;3</title>\n",
       "<path fill=\"none\" stroke=\"black\" d=\"M175.93,-103.73C170.34,-94.97 164.41,-85.7 158.79,-76.91\"/>\n",
       "<polygon fill=\"black\" stroke=\"black\" points=\"161.62,-74.84 153.29,-68.3 155.72,-78.61 161.62,-74.84\"/>\n",
       "</g>\n",
       "<!-- 4 -->\n",
       "<g id=\"node5\" class=\"node\">\n",
       "<title>4</title>\n",
       "<path fill=\"#8139e5\" stroke=\"black\" d=\"M320,-68C320,-68 224,-68 224,-68 218,-68 212,-62 212,-56 212,-56 212,-12 212,-12 212,-6 218,0 224,0 224,0 320,0 320,0 326,0 332,-6 332,-12 332,-12 332,-56 332,-56 332,-62 326,-68 320,-68\"/>\n",
       "<text text-anchor=\"middle\" x=\"272\" y=\"-52.8\" font-family=\"Helvetica,sans-Serif\" font-size=\"14.00\">gini = 0.0</text>\n",
       "<text text-anchor=\"middle\" x=\"272\" y=\"-37.8\" font-family=\"Helvetica,sans-Serif\" font-size=\"14.00\">samples = 32</text>\n",
       "<text text-anchor=\"middle\" x=\"272\" y=\"-22.8\" font-family=\"Helvetica,sans-Serif\" font-size=\"14.00\">value = [0, 0, 32]</text>\n",
       "<text text-anchor=\"middle\" x=\"272\" y=\"-7.8\" font-family=\"Helvetica,sans-Serif\" font-size=\"14.00\">class = virginica</text>\n",
       "</g>\n",
       "<!-- 2&#45;&gt;4 -->\n",
       "<g id=\"edge4\" class=\"edge\">\n",
       "<title>2&#45;&gt;4</title>\n",
       "<path fill=\"none\" stroke=\"black\" d=\"M228.07,-103.73C233.66,-94.97 239.59,-85.7 245.21,-76.91\"/>\n",
       "<polygon fill=\"black\" stroke=\"black\" points=\"248.28,-78.61 250.71,-68.3 242.38,-74.84 248.28,-78.61\"/>\n",
       "</g>\n",
       "</g>\n",
       "</svg>\n"
      ],
      "text/plain": [
       "<graphviz.files.Source at 0x7fe6184638b0>"
      ]
     },
     "execution_count": 53,
     "metadata": {},
     "output_type": "execute_result"
    }
   ],
   "source": [
    "from graphviz import Source\n",
    "from sklearn.tree import export_graphviz\n",
    "import os\n",
    "\n",
    "IMAGES_PATH = './fig'\n",
    "\n",
    "export_graphviz(\n",
    "        tree_clf,\n",
    "        out_file=os.path.join(IMAGES_PATH, \"iris_tree.dot\"),\n",
    "        feature_names=column_names,\n",
    "        class_names=target_names,\n",
    "        rounded=True,\n",
    "        filled=True\n",
    "    )\n",
    "\n",
    "Source.from_file(os.path.join(IMAGES_PATH, \"iris_tree.dot\"))"
   ]
  },
  {
   "cell_type": "markdown",
   "metadata": {},
   "source": [
    "#### 9.2 DecisionTreeClassifier with With Normalized data"
   ]
  },
  {
   "cell_type": "code",
   "execution_count": 54,
   "metadata": {},
   "outputs": [
    {
     "name": "stdout",
     "output_type": "stream",
     "text": [
      "[[12  0  0]\n",
      " [ 0 15  1]\n",
      " [ 0  2 15]]\n",
      "              precision    recall  f1-score   support\n",
      "\n",
      "      setosa       1.00      1.00      1.00        12\n",
      "  versicolor       0.88      0.94      0.91        16\n",
      "   virginica       0.94      0.88      0.91        17\n",
      "\n",
      "    accuracy                           0.93        45\n",
      "   macro avg       0.94      0.94      0.94        45\n",
      "weighted avg       0.93      0.93      0.93        45\n",
      "\n"
     ]
    }
   ],
   "source": [
    "from sklearn.metrics import confusion_matrix\n",
    "from sklearn.metrics import classification_report\n",
    "from sklearn.model_selection import train_test_split\n",
    "from sklearn.tree import DecisionTreeClassifier\n",
    "\n",
    "\n",
    "X = df_norm.iloc[:, :4] # petal length and width\n",
    "y = df_norm.iloc[:, 4]\n",
    "\n",
    "X_train, X_test, y_train, y_test = train_test_split(X, y, test_size=0.30)\n",
    "\n",
    "tree_clf = DecisionTreeClassifier(max_depth=2, criterion=\"gini\", random_state=42)\n",
    "tree_clf.fit(X_train, y_train)\n",
    "\n",
    "y_pred = tree_clf.predict(X_test)\n",
    "\n",
    "# plot a confusion matrix\n",
    "confusion_mat = confusion_matrix(y_test, y_pred)\n",
    "\n",
    "print(confusion_mat)\n",
    "\n",
    "target_names = ['setosa', 'versicolor', 'virginica']\n",
    "column_names = df_norm.drop(['class'], axis=1).columns\n",
    "\n",
    "result_metrics = classification_report(y_test, y_pred, target_names=target_names)\n",
    "\n",
    "print(result_metrics)"
   ]
  },
  {
   "cell_type": "code",
   "execution_count": 55,
   "metadata": {},
   "outputs": [
    {
     "data": {
      "image/svg+xml": [
       "<?xml version=\"1.0\" encoding=\"UTF-8\" standalone=\"no\"?>\n",
       "<!DOCTYPE svg PUBLIC \"-//W3C//DTD SVG 1.1//EN\"\n",
       " \"http://www.w3.org/Graphics/SVG/1.1/DTD/svg11.dtd\">\n",
       "<!-- Generated by graphviz version 2.49.3 (20211023.0002)\n",
       " -->\n",
       "<!-- Title: Tree Pages: 1 -->\n",
       "<svg width=\"344pt\" height=\"314pt\"\n",
       " viewBox=\"0.00 0.00 344.00 314.00\" xmlns=\"http://www.w3.org/2000/svg\" xmlns:xlink=\"http://www.w3.org/1999/xlink\">\n",
       "<g id=\"graph0\" class=\"graph\" transform=\"scale(1 1) rotate(0) translate(4 310)\">\n",
       "<title>Tree</title>\n",
       "<polygon fill=\"white\" stroke=\"transparent\" points=\"-4,4 -4,-310 340,-310 340,4 -4,4\"/>\n",
       "<!-- 0 -->\n",
       "<g id=\"node1\" class=\"node\">\n",
       "<title>0</title>\n",
       "<path fill=\"#fef8f4\" stroke=\"black\" d=\"M189,-306C189,-306 77,-306 77,-306 71,-306 65,-300 65,-294 65,-294 65,-235 65,-235 65,-229 71,-223 77,-223 77,-223 189,-223 189,-223 195,-223 201,-229 201,-235 201,-235 201,-294 201,-294 201,-300 195,-306 189,-306\"/>\n",
       "<text text-anchor=\"middle\" x=\"133\" y=\"-290.8\" font-family=\"Helvetica,sans-Serif\" font-size=\"14.00\">petal_len &lt;= 0.246</text>\n",
       "<text text-anchor=\"middle\" x=\"133\" y=\"-275.8\" font-family=\"Helvetica,sans-Serif\" font-size=\"14.00\">gini = 0.665</text>\n",
       "<text text-anchor=\"middle\" x=\"133\" y=\"-260.8\" font-family=\"Helvetica,sans-Serif\" font-size=\"14.00\">samples = 105</text>\n",
       "<text text-anchor=\"middle\" x=\"133\" y=\"-245.8\" font-family=\"Helvetica,sans-Serif\" font-size=\"14.00\">value = [38, 34, 33]</text>\n",
       "<text text-anchor=\"middle\" x=\"133\" y=\"-230.8\" font-family=\"Helvetica,sans-Serif\" font-size=\"14.00\">class = setosa</text>\n",
       "</g>\n",
       "<!-- 1 -->\n",
       "<g id=\"node2\" class=\"node\">\n",
       "<title>1</title>\n",
       "<path fill=\"#e58139\" stroke=\"black\" d=\"M108,-179.5C108,-179.5 12,-179.5 12,-179.5 6,-179.5 0,-173.5 0,-167.5 0,-167.5 0,-123.5 0,-123.5 0,-117.5 6,-111.5 12,-111.5 12,-111.5 108,-111.5 108,-111.5 114,-111.5 120,-117.5 120,-123.5 120,-123.5 120,-167.5 120,-167.5 120,-173.5 114,-179.5 108,-179.5\"/>\n",
       "<text text-anchor=\"middle\" x=\"60\" y=\"-164.3\" font-family=\"Helvetica,sans-Serif\" font-size=\"14.00\">gini = 0.0</text>\n",
       "<text text-anchor=\"middle\" x=\"60\" y=\"-149.3\" font-family=\"Helvetica,sans-Serif\" font-size=\"14.00\">samples = 38</text>\n",
       "<text text-anchor=\"middle\" x=\"60\" y=\"-134.3\" font-family=\"Helvetica,sans-Serif\" font-size=\"14.00\">value = [38, 0, 0]</text>\n",
       "<text text-anchor=\"middle\" x=\"60\" y=\"-119.3\" font-family=\"Helvetica,sans-Serif\" font-size=\"14.00\">class = setosa</text>\n",
       "</g>\n",
       "<!-- 0&#45;&gt;1 -->\n",
       "<g id=\"edge1\" class=\"edge\">\n",
       "<title>0&#45;&gt;1</title>\n",
       "<path fill=\"none\" stroke=\"black\" d=\"M107.67,-222.91C100.72,-211.76 93.17,-199.66 86.17,-188.44\"/>\n",
       "<polygon fill=\"black\" stroke=\"black\" points=\"88.96,-186.3 80.69,-179.67 83.02,-190 88.96,-186.3\"/>\n",
       "<text text-anchor=\"middle\" x=\"75.05\" y=\"-200.32\" font-family=\"Helvetica,sans-Serif\" font-size=\"14.00\">True</text>\n",
       "</g>\n",
       "<!-- 2 -->\n",
       "<g id=\"node3\" class=\"node\">\n",
       "<title>2</title>\n",
       "<path fill=\"#f9fefb\" stroke=\"black\" d=\"M261.5,-187C261.5,-187 150.5,-187 150.5,-187 144.5,-187 138.5,-181 138.5,-175 138.5,-175 138.5,-116 138.5,-116 138.5,-110 144.5,-104 150.5,-104 150.5,-104 261.5,-104 261.5,-104 267.5,-104 273.5,-110 273.5,-116 273.5,-116 273.5,-175 273.5,-175 273.5,-181 267.5,-187 261.5,-187\"/>\n",
       "<text text-anchor=\"middle\" x=\"206\" y=\"-171.8\" font-family=\"Helvetica,sans-Serif\" font-size=\"14.00\">petal_wid &lt;= 0.646</text>\n",
       "<text text-anchor=\"middle\" x=\"206\" y=\"-156.8\" font-family=\"Helvetica,sans-Serif\" font-size=\"14.00\">gini = 0.5</text>\n",
       "<text text-anchor=\"middle\" x=\"206\" y=\"-141.8\" font-family=\"Helvetica,sans-Serif\" font-size=\"14.00\">samples = 67</text>\n",
       "<text text-anchor=\"middle\" x=\"206\" y=\"-126.8\" font-family=\"Helvetica,sans-Serif\" font-size=\"14.00\">value = [0, 34, 33]</text>\n",
       "<text text-anchor=\"middle\" x=\"206\" y=\"-111.8\" font-family=\"Helvetica,sans-Serif\" font-size=\"14.00\">class = versicolor</text>\n",
       "</g>\n",
       "<!-- 0&#45;&gt;2 -->\n",
       "<g id=\"edge2\" class=\"edge\">\n",
       "<title>0&#45;&gt;2</title>\n",
       "<path fill=\"none\" stroke=\"black\" d=\"M158.33,-222.91C163.82,-214.1 169.69,-204.7 175.36,-195.61\"/>\n",
       "<polygon fill=\"black\" stroke=\"black\" points=\"178.39,-197.36 180.72,-187.02 172.45,-193.65 178.39,-197.36\"/>\n",
       "<text text-anchor=\"middle\" x=\"186.36\" y=\"-207.68\" font-family=\"Helvetica,sans-Serif\" font-size=\"14.00\">False</text>\n",
       "</g>\n",
       "<!-- 3 -->\n",
       "<g id=\"node4\" class=\"node\">\n",
       "<title>3</title>\n",
       "<path fill=\"#45e789\" stroke=\"black\" d=\"M186,-68C186,-68 86,-68 86,-68 80,-68 74,-62 74,-56 74,-56 74,-12 74,-12 74,-6 80,0 86,0 86,0 186,0 186,0 192,0 198,-6 198,-12 198,-12 198,-56 198,-56 198,-62 192,-68 186,-68\"/>\n",
       "<text text-anchor=\"middle\" x=\"136\" y=\"-52.8\" font-family=\"Helvetica,sans-Serif\" font-size=\"14.00\">gini = 0.108</text>\n",
       "<text text-anchor=\"middle\" x=\"136\" y=\"-37.8\" font-family=\"Helvetica,sans-Serif\" font-size=\"14.00\">samples = 35</text>\n",
       "<text text-anchor=\"middle\" x=\"136\" y=\"-22.8\" font-family=\"Helvetica,sans-Serif\" font-size=\"14.00\">value = [0, 33, 2]</text>\n",
       "<text text-anchor=\"middle\" x=\"136\" y=\"-7.8\" font-family=\"Helvetica,sans-Serif\" font-size=\"14.00\">class = versicolor</text>\n",
       "</g>\n",
       "<!-- 2&#45;&gt;3 -->\n",
       "<g id=\"edge3\" class=\"edge\">\n",
       "<title>2&#45;&gt;3</title>\n",
       "<path fill=\"none\" stroke=\"black\" d=\"M179.93,-103.73C174.34,-94.97 168.41,-85.7 162.79,-76.91\"/>\n",
       "<polygon fill=\"black\" stroke=\"black\" points=\"165.62,-74.84 157.29,-68.3 159.72,-78.61 165.62,-74.84\"/>\n",
       "</g>\n",
       "<!-- 4 -->\n",
       "<g id=\"node5\" class=\"node\">\n",
       "<title>4</title>\n",
       "<path fill=\"#853fe6\" stroke=\"black\" d=\"M324,-68C324,-68 228,-68 228,-68 222,-68 216,-62 216,-56 216,-56 216,-12 216,-12 216,-6 222,0 228,0 228,0 324,0 324,0 330,0 336,-6 336,-12 336,-12 336,-56 336,-56 336,-62 330,-68 324,-68\"/>\n",
       "<text text-anchor=\"middle\" x=\"276\" y=\"-52.8\" font-family=\"Helvetica,sans-Serif\" font-size=\"14.00\">gini = 0.061</text>\n",
       "<text text-anchor=\"middle\" x=\"276\" y=\"-37.8\" font-family=\"Helvetica,sans-Serif\" font-size=\"14.00\">samples = 32</text>\n",
       "<text text-anchor=\"middle\" x=\"276\" y=\"-22.8\" font-family=\"Helvetica,sans-Serif\" font-size=\"14.00\">value = [0, 1, 31]</text>\n",
       "<text text-anchor=\"middle\" x=\"276\" y=\"-7.8\" font-family=\"Helvetica,sans-Serif\" font-size=\"14.00\">class = virginica</text>\n",
       "</g>\n",
       "<!-- 2&#45;&gt;4 -->\n",
       "<g id=\"edge4\" class=\"edge\">\n",
       "<title>2&#45;&gt;4</title>\n",
       "<path fill=\"none\" stroke=\"black\" d=\"M232.07,-103.73C237.66,-94.97 243.59,-85.7 249.21,-76.91\"/>\n",
       "<polygon fill=\"black\" stroke=\"black\" points=\"252.28,-78.61 254.71,-68.3 246.38,-74.84 252.28,-78.61\"/>\n",
       "</g>\n",
       "</g>\n",
       "</svg>\n"
      ],
      "text/plain": [
       "<graphviz.files.Source at 0x7fe608d7fee0>"
      ]
     },
     "execution_count": 55,
     "metadata": {},
     "output_type": "execute_result"
    }
   ],
   "source": [
    "from graphviz import Source\n",
    "from sklearn.tree import export_graphviz\n",
    "import os\n",
    "\n",
    "IMAGES_PATH = './fig'\n",
    "\n",
    "export_graphviz(\n",
    "        tree_clf,\n",
    "        out_file=os.path.join(IMAGES_PATH, \"iris_tree.dot\"),\n",
    "        feature_names=column_names,\n",
    "        class_names=target_names,\n",
    "        rounded=True,\n",
    "        filled=True\n",
    "    )\n",
    "\n",
    "Source.from_file(os.path.join(IMAGES_PATH, \"iris_tree.dot\"))"
   ]
  },
  {
   "cell_type": "markdown",
   "metadata": {},
   "source": [
    "### 4. Data Analysis Report (10 pts)\n",
    "\n",
    "Write a report of what you find from the data. Your report should include the following:\n",
    "\n",
    "(a) A summary from the observation of the five number summaries in (1) and boxplots in (2).\n",
    "\n",
    "(b) A summary about data’s modality (i.e., bimodal, trimodal, etc.) from the histograms in (3).\n",
    "\n",
    "(c) A summary from correlation results in (4) and scatter graphs in (5)\n",
    "\n",
    "(d) A summary from outlier analysis (8). \n",
    "\n",
    "(e) A summary from the results of Decision Tree classifier on this data (9). In particular, discuss how normalization affects the performance of the Decision Tree classifier. \n",
    "    "
   ]
  },
  {
   "cell_type": "markdown",
   "metadata": {},
   "source": [
    "#### Analysis report\n",
    "\n"
   ]
  },
  {
   "cell_type": "markdown",
   "metadata": {},
   "source": [
    "---\n",
    "# Date Analysis Report\n",
    "---\n",
    "\n",
    "For the mid-term assignment, we are working with the iris dataset a well known dataset in the data science world. The iris dataset provided is stored in **two separate .csv files** and contains features regarding the sepal length and width as well as the petal length and width of **three different types/species** of the  iris flower in centimeters. The type to which is iris belongs is also provided in two redundant columns - 'class' and 'name'. The **class is encoded** as follows. Setosa = 1, Versicolour = 2 , Virginica = 3\n",
    "\n",
    "### 1. INITIAL LOOK AND UNDERSTANDING\n",
    "After loading both the datasets and looking at their shape and datatypes the following is observed:\n",
    "\n",
    "* The shape of both iris datasets are appropriate for **joining on the id column** and both datasets have a **unique id** that can be used for carrying out an **inner join**\n",
    "* Datatype for PetalLen, PetalWidth, SepalLen, SepalWid **are all floats** which is good. However, we **will do type conversion** on this incase data includes non-numeric values later.\n",
    "* The 'id' column has **string 'id-001'** which I think would be better to manipulate if **converted to an integer** and then set as the index.\n",
    "* There are **some null values** in SepalWid, PetalLen that need to be addressed\n",
    "* There are a total of 150 records, with 50 for each type of iris. The class column has a single typo issue where **\"2\" has been miswritten as \"two\"**.\n",
    "\n",
    "### 2. DATA PREPROCESSING\n",
    "In the data processing part, we not only tried to address some of the issues detected in the initial part but also **do some preliminary EDA** in order to check the data to see if there are any major quality issues or obvious outliers. Some of the pre-processing done is as follows.\n",
    "\n",
    "* The first round of preprocessing involved setting the right datatypes and converting id values to numeric done on both datasets.\n",
    "* Joining the two datasets and checking if **inner join** produced the expected results.\n",
    "* Fix the \"two\" in the \"class\" column and drop the redundant \"name\" column.\n",
    "* Although the \"class\" column has 1,2,3 integer values this is **stored as string since class is categorical** .\n",
    "* Setting the integer \"id\" column as the index.\n",
    "\n",
    "At this point our data is at a stage where we can do some preliminay EDA to see if the distributions make sense or not. \n",
    "\n",
    "* Using descriptive analysis and boxplots it is clear that there outliers. \n",
    "* We see that the min petal width is -2 this is clearly not possible so **some outliers need to be removed.**\n",
    "* We also see that there are outliers for sepal length, sepal width. But since the values here are not impossible values we chose to keep them for now.  \n",
    "\n",
    "After removing the obvious outliers (<=0) we fill in missing values using both mean strategy and KNN and compare the new dataframes to original dataframe using a set of histograms.\n",
    "\n",
    "- The imputers don't change the shape of the histograms significantly. This is because there are only few missing values.\n",
    "- **Modality:** Sepal length and sepal width has single modality. Petal length and petal width are bi-modal.\n",
    "- All the histograms look a bit **choppy(with gaps)** with some values having zero frequency. This could be either the nature of the iris or due to rounding off when collect the measurements. Also we have very few data points (150 only)\n",
    "- **Choosing imputation method:** In sepal_wid mean imputation is filling a value around 3.0 this is removing a gap which existed in the original data set. The KNN I feel is doing a better job and filling more towards the outlier clusters and maintaining the original shape.Therefore we will go ahead with the **KNN imputed dataset.**\n",
    "\n",
    "After cleaning and imputing missing values in the dataset we create a dataframe with **normalized values using the MinMaxScaler().**\n",
    "\n",
    "### 3. DETAILED EDA\n",
    "\n",
    "Exploratory Data Analysis was carried out **on both the non-normalized data and the normalized data**. Here are some of the analysis\n",
    "\n",
    "##### Descriptive Analysis: \n",
    "- After removing  the negative values the min, max, are resonable. max= 9.8 cm is possible since according to wikipedia **a large iris can be upto 15 cm in length.**\n",
    "-  We can see that the MinMax Scalar has fit all the values between 0 and 1 for all the 4 features.\n",
    "\n",
    "##### Boxplot and Histograms: \n",
    "\n",
    "- Looking at the boxplots we can see that the MinMax scaler is stretching out some features and squeezing some other features.\n",
    "- Normalization does not change the overall shape of the histogram. \n",
    "- Modality is similar to modality found during pre-processing.\n",
    " \n",
    "##### Correlation, ScatterPlots and Cluster Analysis:\n",
    "\n",
    "- Normalizing the data should not change the correlation between them as we can see.\n",
    "- **petal_wid and petal_len are highly correlated to each other (0.96)**\n",
    "- The **setosa variety** (class = 1) has the smallest petals with some of the largest sepal length and width. Its sepal size spreads accross having high deviation. The petal size is small and with very low deviation - sharp curve\n",
    "- The **versicolor variety** tends to always be in the middle\n",
    "- The **virginica variety** has very large and wide petals with average sepal width and length\n",
    "- Although some scatter plots show a few outliers in sepal_len and sepal_width plot these are not ouliers in **petal_len and petal_wid plot.** They **clearly fall into a cluster and show high correlation**. So we will not be removing these outliers.\n",
    "\n",
    "##### Kdeplot: \n",
    "- The two kdeplots of normalized and not normalized data show the same pattern for Sepal Width, Petal Length, Petal Width as they did in the histogram.\n",
    "- Sepal Width has single modalilty with **slight right skew**.\n",
    "- Petal Length and Petal Width are both bi-modal. This is more clearly visible in kdeplot\n",
    "- **Interesting find in kdeplot:** However looking at **Sepal Length (Magenta colored)** there is **a slight tri-modality** where the suspected outliers were present. This is interesting as the outliers in this case form a very tiny cluster and therefore we cannot tell if tri-modality is indeed the distribution for iris sepal lengths or these small peaks are just error outliers that need to be removed.\n",
    "- Since the outlier do form a cluster albeit very small it makes sense to not remove them.\n",
    "\n",
    "\n",
    "### 4. EXPLAINING OUTLIER SELECTION\n",
    "1. Descriptive analysis indicated one negative value which was immediately removed. The min and max values after removing the negative value are reasonable and possible.\n",
    "2. Based on analysis of histogram we see that some frequencies have gaps and some features show bi-modality. This again argues for not removing any outlier as seen in the boxplot. (above 1.5X)\n",
    "3. Scatter plot of various pairs on sepal and petal, length and width show that a few outlier are present for the sepal scatter plots. However they all correlate highly and form tight clusters in the petal scatter plots. If these values are corrupt outliers it makes no sense that the sepal values were not correctly measured but the petal values for the same data point were correctly measured.\n",
    "4. The kdeplot shows slight trimodality for sepal length.\n",
    "5. The swarm plot similarly shows that the outliers for sepal_len vs sepal_width are mostly of setosa variety which has higher spread seen in sns.pairplots()\n",
    "\n",
    "##### Therefore we will not remove anymore outliers\n",
    "\n",
    "### 5. RESULTS OF DECISION TREE CLASSIFIER\n",
    "- The results from the decision tree classifier shows high predictive values for both normalized and non-normalized data. Precision, Recall, Accuracy are all higher than 80 or 90 for multiple runs.\n",
    "- The models show different results with different runs depending on how the desicion tree was traversed. \n",
    "- Both decision trees accross multiple runs are excellent at classifying setosa variety with perfect precision =1 and recall=1\n",
    "- The normalized decision tree classifier is slightly better for classifying virginica and versicolor than non-normalized for precision and recall values.\n",
    "- After running the models multiple times the grahviz for non-nomalized can have a different branch pattern than the normalized model. \n",
    "- On one of the runs the normalized data produced prefect results. Most likely overfitting.\n",
    "\n",
    "\n",
    "\n",
    "### 6. REFERENCES\n",
    "1. https://en.wikipedia.org/wiki/Iris_giganticaerulea#:~:text=8%20External%20links-,Description,2%E2%80%934%20cm)%20thick.\n",
    "2. https://stackoverflow.com/questions/8270092/remove-all-whitespace-in-a-string\n",
    "3. https://datascienceparichay.com/article/pandas-count-of-unique-values-in-each-column/\n",
    "4. https://stackoverflow.com/questions/40243753/exception-dot-not-found-in-path-in-python-on-mac\n",
    "\n",
    " \n",
    "\n",
    "\n",
    "\n",
    "\n",
    "\n",
    "\n"
   ]
  },
  {
   "cell_type": "markdown",
   "metadata": {},
   "source": [
    "Example of overfit:"
   ]
  },
  {
   "attachments": {
    "Screen%20Shot%202021-10-30%20at%2011.08.27%20PM.png": {
     "image/png": "[encoded data removed]"
    }
   },
   "cell_type": "markdown",
   "metadata": {},
   "source": [
    "![Screen%20Shot%202021-10-30%20at%2011.08.27%20PM.png](attachment:Screen%20Shot%202021-10-30%20at%2011.08.27%20PM.png)"
   ]
  },
  {
   "cell_type": "markdown",
   "metadata": {},
   "source": [
    "# ---END---"
   ]
  },
  {
   "cell_type": "code",
   "execution_count": null,
   "metadata": {},
   "outputs": [],
   "source": []
  }
 ],
 "metadata": {
  "kernelspec": {
   "display_name": "Python 3 (ipykernel)",
   "language": "python",
   "name": "python3"
  },
  "language_info": {
   "codemirror_mode": {
    "name": "ipython",
    "version": 3
   },
   "file_extension": ".py",
   "mimetype": "text/x-python",
   "name": "python",
   "nbconvert_exporter": "python",
   "pygments_lexer": "ipython3",
   "version": "3.9.7"
  }
 },
 "nbformat": 4,
 "nbformat_minor": 1
}
